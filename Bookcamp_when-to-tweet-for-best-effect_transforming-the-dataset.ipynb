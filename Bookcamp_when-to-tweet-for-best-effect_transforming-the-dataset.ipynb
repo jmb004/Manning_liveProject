{
 "cells": [
  {
   "cell_type": "markdown",
   "id": "1a566e78",
   "metadata": {},
   "source": [
    "# Import pandas and NumPy libraries."
   ]
  },
  {
   "cell_type": "code",
   "execution_count": 41,
   "id": "fd1997d4",
   "metadata": {},
   "outputs": [],
   "source": [
    "import pandas as pd\n",
    "import numpy as np"
   ]
  },
  {
   "cell_type": "markdown",
   "id": "c77b8e04",
   "metadata": {},
   "source": [
    "# Read the tweet_engagements.csv file as pandas DataFrame."
   ]
  },
  {
   "cell_type": "code",
   "execution_count": 42,
   "id": "bd5950d5",
   "metadata": {},
   "outputs": [],
   "source": [
    "tweets = pd.read_csv(\"tweet_engagements.csv\")"
   ]
  },
  {
   "cell_type": "markdown",
   "id": "bae512d4",
   "metadata": {},
   "source": [
    "# Explore the dataset using pandas functions."
   ]
  },
  {
   "cell_type": "code",
   "execution_count": 43,
   "id": "5537883d",
   "metadata": {},
   "outputs": [
    {
     "data": {
      "text/html": [
       "<div>\n",
       "<style scoped>\n",
       "    .dataframe tbody tr th:only-of-type {\n",
       "        vertical-align: middle;\n",
       "    }\n",
       "\n",
       "    .dataframe tbody tr th {\n",
       "        vertical-align: top;\n",
       "    }\n",
       "\n",
       "    .dataframe thead th {\n",
       "        text-align: right;\n",
       "    }\n",
       "</style>\n",
       "<table border=\"1\" class=\"dataframe\">\n",
       "  <thead>\n",
       "    <tr style=\"text-align: right;\">\n",
       "      <th></th>\n",
       "      <th>Date</th>\n",
       "      <th>Impression</th>\n",
       "      <th>Engagement</th>\n",
       "    </tr>\n",
       "  </thead>\n",
       "  <tbody>\n",
       "    <tr>\n",
       "      <th>0</th>\n",
       "      <td>1.11.2020</td>\n",
       "      <td>506</td>\n",
       "      <td>106</td>\n",
       "    </tr>\n",
       "    <tr>\n",
       "      <th>1</th>\n",
       "      <td>2.11.2020</td>\n",
       "      <td>331</td>\n",
       "      <td>50</td>\n",
       "    </tr>\n",
       "    <tr>\n",
       "      <th>2</th>\n",
       "      <td>3.11.2020</td>\n",
       "      <td>377</td>\n",
       "      <td>86</td>\n",
       "    </tr>\n",
       "    <tr>\n",
       "      <th>3</th>\n",
       "      <td>4.11.2020</td>\n",
       "      <td>333</td>\n",
       "      <td>108</td>\n",
       "    </tr>\n",
       "    <tr>\n",
       "      <th>4</th>\n",
       "      <td>5.11.2020</td>\n",
       "      <td>558</td>\n",
       "      <td>31</td>\n",
       "    </tr>\n",
       "  </tbody>\n",
       "</table>\n",
       "</div>"
      ],
      "text/plain": [
       "        Date  Impression  Engagement\n",
       "0  1.11.2020         506         106\n",
       "1  2.11.2020         331          50\n",
       "2  3.11.2020         377          86\n",
       "3  4.11.2020         333         108\n",
       "4  5.11.2020         558          31"
      ]
     },
     "execution_count": 43,
     "metadata": {},
     "output_type": "execute_result"
    }
   ],
   "source": [
    "tweets.head()"
   ]
  },
  {
   "cell_type": "code",
   "execution_count": 44,
   "id": "b69f0da5",
   "metadata": {},
   "outputs": [
    {
     "data": {
      "text/html": [
       "<div>\n",
       "<style scoped>\n",
       "    .dataframe tbody tr th:only-of-type {\n",
       "        vertical-align: middle;\n",
       "    }\n",
       "\n",
       "    .dataframe tbody tr th {\n",
       "        vertical-align: top;\n",
       "    }\n",
       "\n",
       "    .dataframe thead th {\n",
       "        text-align: right;\n",
       "    }\n",
       "</style>\n",
       "<table border=\"1\" class=\"dataframe\">\n",
       "  <thead>\n",
       "    <tr style=\"text-align: right;\">\n",
       "      <th></th>\n",
       "      <th>Date</th>\n",
       "      <th>Impression</th>\n",
       "      <th>Engagement</th>\n",
       "    </tr>\n",
       "  </thead>\n",
       "  <tbody>\n",
       "    <tr>\n",
       "      <th>117</th>\n",
       "      <td>26.04.2021</td>\n",
       "      <td>319</td>\n",
       "      <td>26</td>\n",
       "    </tr>\n",
       "    <tr>\n",
       "      <th>118</th>\n",
       "      <td>27.04.2021</td>\n",
       "      <td>397</td>\n",
       "      <td>119</td>\n",
       "    </tr>\n",
       "    <tr>\n",
       "      <th>119</th>\n",
       "      <td>28.04.2021</td>\n",
       "      <td>531</td>\n",
       "      <td>124</td>\n",
       "    </tr>\n",
       "    <tr>\n",
       "      <th>120</th>\n",
       "      <td>29.04.2021</td>\n",
       "      <td>150</td>\n",
       "      <td>28</td>\n",
       "    </tr>\n",
       "    <tr>\n",
       "      <th>121</th>\n",
       "      <td>30.04.2021</td>\n",
       "      <td>253</td>\n",
       "      <td>40</td>\n",
       "    </tr>\n",
       "  </tbody>\n",
       "</table>\n",
       "</div>"
      ],
      "text/plain": [
       "           Date  Impression  Engagement\n",
       "117  26.04.2021         319          26\n",
       "118  27.04.2021         397         119\n",
       "119  28.04.2021         531         124\n",
       "120  29.04.2021         150          28\n",
       "121  30.04.2021         253          40"
      ]
     },
     "execution_count": 44,
     "metadata": {},
     "output_type": "execute_result"
    }
   ],
   "source": [
    "tweets.tail()"
   ]
  },
  {
   "cell_type": "code",
   "execution_count": 45,
   "id": "2f9cc56b",
   "metadata": {},
   "outputs": [
    {
     "name": "stdout",
     "output_type": "stream",
     "text": [
      "<class 'pandas.core.frame.DataFrame'>\n",
      "RangeIndex: 122 entries, 0 to 121\n",
      "Data columns (total 3 columns):\n",
      " #   Column      Non-Null Count  Dtype \n",
      "---  ------      --------------  ----- \n",
      " 0   Date        122 non-null    object\n",
      " 1   Impression  122 non-null    int64 \n",
      " 2   Engagement  122 non-null    int64 \n",
      "dtypes: int64(2), object(1)\n",
      "memory usage: 3.0+ KB\n"
     ]
    }
   ],
   "source": [
    "tweets.info()"
   ]
  },
  {
   "cell_type": "code",
   "execution_count": 46,
   "id": "8cdabbdb",
   "metadata": {},
   "outputs": [
    {
     "data": {
      "text/html": [
       "<div>\n",
       "<style scoped>\n",
       "    .dataframe tbody tr th:only-of-type {\n",
       "        vertical-align: middle;\n",
       "    }\n",
       "\n",
       "    .dataframe tbody tr th {\n",
       "        vertical-align: top;\n",
       "    }\n",
       "\n",
       "    .dataframe thead th {\n",
       "        text-align: right;\n",
       "    }\n",
       "</style>\n",
       "<table border=\"1\" class=\"dataframe\">\n",
       "  <thead>\n",
       "    <tr style=\"text-align: right;\">\n",
       "      <th></th>\n",
       "      <th>Impression</th>\n",
       "      <th>Engagement</th>\n",
       "    </tr>\n",
       "  </thead>\n",
       "  <tbody>\n",
       "    <tr>\n",
       "      <th>count</th>\n",
       "      <td>122.000000</td>\n",
       "      <td>122.000000</td>\n",
       "    </tr>\n",
       "    <tr>\n",
       "      <th>mean</th>\n",
       "      <td>358.049180</td>\n",
       "      <td>53.860656</td>\n",
       "    </tr>\n",
       "    <tr>\n",
       "      <th>std</th>\n",
       "      <td>147.129552</td>\n",
       "      <td>37.894659</td>\n",
       "    </tr>\n",
       "    <tr>\n",
       "      <th>min</th>\n",
       "      <td>111.000000</td>\n",
       "      <td>7.000000</td>\n",
       "    </tr>\n",
       "    <tr>\n",
       "      <th>25%</th>\n",
       "      <td>228.000000</td>\n",
       "      <td>25.250000</td>\n",
       "    </tr>\n",
       "    <tr>\n",
       "      <th>50%</th>\n",
       "      <td>360.000000</td>\n",
       "      <td>44.000000</td>\n",
       "    </tr>\n",
       "    <tr>\n",
       "      <th>75%</th>\n",
       "      <td>478.750000</td>\n",
       "      <td>72.000000</td>\n",
       "    </tr>\n",
       "    <tr>\n",
       "      <th>max</th>\n",
       "      <td>619.000000</td>\n",
       "      <td>187.000000</td>\n",
       "    </tr>\n",
       "  </tbody>\n",
       "</table>\n",
       "</div>"
      ],
      "text/plain": [
       "       Impression  Engagement\n",
       "count  122.000000  122.000000\n",
       "mean   358.049180   53.860656\n",
       "std    147.129552   37.894659\n",
       "min    111.000000    7.000000\n",
       "25%    228.000000   25.250000\n",
       "50%    360.000000   44.000000\n",
       "75%    478.750000   72.000000\n",
       "max    619.000000  187.000000"
      ]
     },
     "execution_count": 46,
     "metadata": {},
     "output_type": "execute_result"
    }
   ],
   "source": [
    "tweets.describe()"
   ]
  },
  {
   "cell_type": "code",
   "execution_count": 8,
   "id": "de18f211",
   "metadata": {},
   "outputs": [
    {
     "data": {
      "text/html": [
       "<div>\n",
       "<style scoped>\n",
       "    .dataframe tbody tr th:only-of-type {\n",
       "        vertical-align: middle;\n",
       "    }\n",
       "\n",
       "    .dataframe tbody tr th {\n",
       "        vertical-align: top;\n",
       "    }\n",
       "\n",
       "    .dataframe thead th {\n",
       "        text-align: right;\n",
       "    }\n",
       "</style>\n",
       "<table border=\"1\" class=\"dataframe\">\n",
       "  <thead>\n",
       "    <tr style=\"text-align: right;\">\n",
       "      <th></th>\n",
       "      <th>Date</th>\n",
       "      <th>Impression</th>\n",
       "      <th>Engagement</th>\n",
       "    </tr>\n",
       "  </thead>\n",
       "  <tbody>\n",
       "  </tbody>\n",
       "</table>\n",
       "</div>"
      ],
      "text/plain": [
       "Empty DataFrame\n",
       "Columns: [Date, Impression, Engagement]\n",
       "Index: []"
      ]
     },
     "execution_count": 8,
     "metadata": {},
     "output_type": "execute_result"
    }
   ],
   "source": [
    "tweets[tweets.duplicated() == True]"
   ]
  },
  {
   "cell_type": "code",
   "execution_count": 9,
   "id": "8ac42114",
   "metadata": {},
   "outputs": [
    {
     "data": {
      "text/plain": [
       "1.11.2020     1\n",
       "31.03.2021    1\n",
       "29.03.2021    1\n",
       "28.03.2021    1\n",
       "27.03.2021    1\n",
       "Name: Date, dtype: int64"
      ]
     },
     "metadata": {},
     "output_type": "display_data"
    },
    {
     "data": {
      "text/plain": [
       "360    3\n",
       "112    2\n",
       "196    2\n",
       "582    2\n",
       "124    2\n",
       "Name: Impression, dtype: int64"
      ]
     },
     "metadata": {},
     "output_type": "display_data"
    },
    {
     "data": {
      "text/plain": [
       "36    4\n",
       "45    4\n",
       "50    3\n",
       "21    3\n",
       "86    3\n",
       "Name: Engagement, dtype: int64"
      ]
     },
     "metadata": {},
     "output_type": "display_data"
    }
   ],
   "source": [
    "for cn,c in tweets.iteritems():\n",
    "    display(c.value_counts().nlargest(n = 5))"
   ]
  },
  {
   "cell_type": "code",
   "execution_count": 10,
   "id": "63ebf863",
   "metadata": {},
   "outputs": [
    {
     "data": {
      "text/plain": [
       "1.11.2020     1\n",
       "31.03.2021    1\n",
       "29.03.2021    1\n",
       "28.03.2021    1\n",
       "27.03.2021    1\n",
       "26.03.2021    1\n",
       "Name: Date, dtype: int64"
      ]
     },
     "metadata": {},
     "output_type": "display_data"
    },
    {
     "data": {
      "text/plain": [
       "416    1\n",
       "571    1\n",
       "280    1\n",
       "147    1\n",
       "252    1\n",
       "158    1\n",
       "Name: Impression, dtype: int64"
      ]
     },
     "metadata": {},
     "output_type": "display_data"
    },
    {
     "data": {
      "text/plain": [
       "75     1\n",
       "117    1\n",
       "180    1\n",
       "103    1\n",
       "51     1\n",
       "102    1\n",
       "Name: Engagement, dtype: int64"
      ]
     },
     "metadata": {},
     "output_type": "display_data"
    }
   ],
   "source": [
    "for cn,c in tweets.iteritems():\n",
    "    display(c.value_counts().nsmallest(n = 6))"
   ]
  },
  {
   "cell_type": "code",
   "execution_count": 11,
   "id": "04c75c18",
   "metadata": {},
   "outputs": [
    {
     "data": {
      "text/plain": [
       "Date          122\n",
       "Impression    111\n",
       "Engagement     76\n",
       "dtype: int64"
      ]
     },
     "execution_count": 11,
     "metadata": {},
     "output_type": "execute_result"
    }
   ],
   "source": [
    "tweets.nunique()"
   ]
  },
  {
   "cell_type": "code",
   "execution_count": 12,
   "id": "5a4ecae3",
   "metadata": {},
   "outputs": [
    {
     "data": {
      "text/plain": [
       "1.11.2020     0.819672\n",
       "31.03.2021    0.819672\n",
       "29.03.2021    0.819672\n",
       "28.03.2021    0.819672\n",
       "27.03.2021    0.819672\n",
       "                ...   \n",
       "7.12.2020     0.819672\n",
       "6.12.2020     0.819672\n",
       "5.12.2020     0.819672\n",
       "4.12.2020     0.819672\n",
       "30.04.2021    0.819672\n",
       "Name: Date, Length: 122, dtype: float64"
      ]
     },
     "metadata": {},
     "output_type": "display_data"
    },
    {
     "data": {
      "text/plain": [
       "360    2.459016\n",
       "112    1.639344\n",
       "196    1.639344\n",
       "582    1.639344\n",
       "124    1.639344\n",
       "         ...   \n",
       "552    0.819672\n",
       "227    0.819672\n",
       "297    0.819672\n",
       "465    0.819672\n",
       "253    0.819672\n",
       "Name: Impression, Length: 111, dtype: float64"
      ]
     },
     "metadata": {},
     "output_type": "display_data"
    },
    {
     "data": {
      "text/plain": [
       "36     3.278689\n",
       "45     3.278689\n",
       "50     2.459016\n",
       "21     2.459016\n",
       "86     2.459016\n",
       "         ...   \n",
       "112    0.819672\n",
       "157    0.819672\n",
       "42     0.819672\n",
       "27     0.819672\n",
       "124    0.819672\n",
       "Name: Engagement, Length: 76, dtype: float64"
      ]
     },
     "metadata": {},
     "output_type": "display_data"
    }
   ],
   "source": [
    "for cn,c in tweets.iteritems():\n",
    "    display(c.value_counts(normalize = True) * 100)"
   ]
  },
  {
   "cell_type": "markdown",
   "id": "dc32db7d",
   "metadata": {},
   "source": [
    "# Transforming the Dataset"
   ]
  },
  {
   "cell_type": "markdown",
   "id": "36bfb796",
   "metadata": {},
   "source": [
    "## Generate a DataFrame that contains week numbers in rows, week day names in columns, and engagement rates as values."
   ]
  },
  {
   "cell_type": "code",
   "execution_count": 47,
   "id": "4eb873a1",
   "metadata": {},
   "outputs": [],
   "source": [
    "# Transform the Date column into a pandas date-time format\n",
    "tweets[\"Date\"] = pd.to_datetime(tweets[\"Date\"])"
   ]
  },
  {
   "cell_type": "code",
   "execution_count": 48,
   "id": "fc62abe1",
   "metadata": {},
   "outputs": [
    {
     "name": "stdout",
     "output_type": "stream",
     "text": [
      "<class 'pandas.core.frame.DataFrame'>\n",
      "RangeIndex: 122 entries, 0 to 121\n",
      "Data columns (total 3 columns):\n",
      " #   Column      Non-Null Count  Dtype         \n",
      "---  ------      --------------  -----         \n",
      " 0   Date        122 non-null    datetime64[ns]\n",
      " 1   Impression  122 non-null    int64         \n",
      " 2   Engagement  122 non-null    int64         \n",
      "dtypes: datetime64[ns](1), int64(2)\n",
      "memory usage: 3.0 KB\n"
     ]
    }
   ],
   "source": [
    "tweets.info()"
   ]
  },
  {
   "cell_type": "code",
   "execution_count": 49,
   "id": "e885de5c",
   "metadata": {},
   "outputs": [
    {
     "data": {
      "text/html": [
       "<div>\n",
       "<style scoped>\n",
       "    .dataframe tbody tr th:only-of-type {\n",
       "        vertical-align: middle;\n",
       "    }\n",
       "\n",
       "    .dataframe tbody tr th {\n",
       "        vertical-align: top;\n",
       "    }\n",
       "\n",
       "    .dataframe thead th {\n",
       "        text-align: right;\n",
       "    }\n",
       "</style>\n",
       "<table border=\"1\" class=\"dataframe\">\n",
       "  <thead>\n",
       "    <tr style=\"text-align: right;\">\n",
       "      <th></th>\n",
       "      <th>Date</th>\n",
       "      <th>Impression</th>\n",
       "      <th>Engagement</th>\n",
       "    </tr>\n",
       "  </thead>\n",
       "  <tbody>\n",
       "    <tr>\n",
       "      <th>0</th>\n",
       "      <td>2020-01-11</td>\n",
       "      <td>506</td>\n",
       "      <td>106</td>\n",
       "    </tr>\n",
       "    <tr>\n",
       "      <th>1</th>\n",
       "      <td>2020-02-11</td>\n",
       "      <td>331</td>\n",
       "      <td>50</td>\n",
       "    </tr>\n",
       "    <tr>\n",
       "      <th>2</th>\n",
       "      <td>2020-03-11</td>\n",
       "      <td>377</td>\n",
       "      <td>86</td>\n",
       "    </tr>\n",
       "    <tr>\n",
       "      <th>3</th>\n",
       "      <td>2020-04-11</td>\n",
       "      <td>333</td>\n",
       "      <td>108</td>\n",
       "    </tr>\n",
       "    <tr>\n",
       "      <th>4</th>\n",
       "      <td>2020-05-11</td>\n",
       "      <td>558</td>\n",
       "      <td>31</td>\n",
       "    </tr>\n",
       "  </tbody>\n",
       "</table>\n",
       "</div>"
      ],
      "text/plain": [
       "        Date  Impression  Engagement\n",
       "0 2020-01-11         506         106\n",
       "1 2020-02-11         331          50\n",
       "2 2020-03-11         377          86\n",
       "3 2020-04-11         333         108\n",
       "4 2020-05-11         558          31"
      ]
     },
     "execution_count": 49,
     "metadata": {},
     "output_type": "execute_result"
    }
   ],
   "source": [
    "tweets.head()"
   ]
  },
  {
   "cell_type": "code",
   "execution_count": null,
   "id": "b048d859",
   "metadata": {},
   "outputs": [],
   "source": [
    "tweets.apply(func= , axis=1)"
   ]
  },
  {
   "cell_type": "code",
   "execution_count": 18,
   "id": "6a98a864",
   "metadata": {},
   "outputs": [],
   "source": [
    "# column that contains the names of the days of the week from Date.\n",
    "tweets['week_day'] = tweets[\"Date\"].dt.day_name()"
   ]
  },
  {
   "cell_type": "code",
   "execution_count": 15,
   "id": "6a9afe46",
   "metadata": {},
   "outputs": [],
   "source": [
    "# Create a week_number column that contains the week number of the year from Date. Consider Monday as the starting day of the week.\n",
    "tweets['week_number'] = tweets['Date'].dt.isocalendar().week "
   ]
  },
  {
   "cell_type": "code",
   "execution_count": 20,
   "id": "87a0777d",
   "metadata": {},
   "outputs": [],
   "source": [
    "# Create a rate column that contains an engagement-per-impression rate.\n",
    "tweets['rate'] = tweets['Engagement'] / tweets['Impression']"
   ]
  },
  {
   "cell_type": "code",
   "execution_count": 21,
   "id": "918d8f5d",
   "metadata": {},
   "outputs": [
    {
     "data": {
      "text/html": [
       "<div>\n",
       "<style scoped>\n",
       "    .dataframe tbody tr th:only-of-type {\n",
       "        vertical-align: middle;\n",
       "    }\n",
       "\n",
       "    .dataframe tbody tr th {\n",
       "        vertical-align: top;\n",
       "    }\n",
       "\n",
       "    .dataframe thead th {\n",
       "        text-align: right;\n",
       "    }\n",
       "</style>\n",
       "<table border=\"1\" class=\"dataframe\">\n",
       "  <thead>\n",
       "    <tr style=\"text-align: right;\">\n",
       "      <th></th>\n",
       "      <th>Date</th>\n",
       "      <th>Impression</th>\n",
       "      <th>Engagement</th>\n",
       "      <th>week_day</th>\n",
       "      <th>week_number</th>\n",
       "      <th>rate</th>\n",
       "    </tr>\n",
       "  </thead>\n",
       "  <tbody>\n",
       "    <tr>\n",
       "      <th>0</th>\n",
       "      <td>2020-01-11</td>\n",
       "      <td>506</td>\n",
       "      <td>106</td>\n",
       "      <td>Saturday</td>\n",
       "      <td>2</td>\n",
       "      <td>0.209486</td>\n",
       "    </tr>\n",
       "    <tr>\n",
       "      <th>1</th>\n",
       "      <td>2020-02-11</td>\n",
       "      <td>331</td>\n",
       "      <td>50</td>\n",
       "      <td>Tuesday</td>\n",
       "      <td>7</td>\n",
       "      <td>0.151057</td>\n",
       "    </tr>\n",
       "    <tr>\n",
       "      <th>2</th>\n",
       "      <td>2020-03-11</td>\n",
       "      <td>377</td>\n",
       "      <td>86</td>\n",
       "      <td>Wednesday</td>\n",
       "      <td>11</td>\n",
       "      <td>0.228117</td>\n",
       "    </tr>\n",
       "    <tr>\n",
       "      <th>3</th>\n",
       "      <td>2020-04-11</td>\n",
       "      <td>333</td>\n",
       "      <td>108</td>\n",
       "      <td>Saturday</td>\n",
       "      <td>15</td>\n",
       "      <td>0.324324</td>\n",
       "    </tr>\n",
       "    <tr>\n",
       "      <th>4</th>\n",
       "      <td>2020-05-11</td>\n",
       "      <td>558</td>\n",
       "      <td>31</td>\n",
       "      <td>Monday</td>\n",
       "      <td>20</td>\n",
       "      <td>0.055556</td>\n",
       "    </tr>\n",
       "  </tbody>\n",
       "</table>\n",
       "</div>"
      ],
      "text/plain": [
       "        Date  Impression  Engagement   week_day  week_number      rate\n",
       "0 2020-01-11         506         106   Saturday            2  0.209486\n",
       "1 2020-02-11         331          50    Tuesday            7  0.151057\n",
       "2 2020-03-11         377          86  Wednesday           11  0.228117\n",
       "3 2020-04-11         333         108   Saturday           15  0.324324\n",
       "4 2020-05-11         558          31     Monday           20  0.055556"
      ]
     },
     "execution_count": 21,
     "metadata": {},
     "output_type": "execute_result"
    }
   ],
   "source": [
    "tweets.head()"
   ]
  },
  {
   "cell_type": "code",
   "execution_count": 36,
   "id": "ed5d052b",
   "metadata": {},
   "outputs": [],
   "source": [
    "# Generate a DataFrame that contains week numbers in rows, week day names in columns, and engagement rates as values.\n",
    "engagement_df = tweets.pivot_table(index = \"week_number\", columns= \"week_day\", values= \"rate\")"
   ]
  },
  {
   "cell_type": "code",
   "execution_count": 37,
   "id": "eb205f9d",
   "metadata": {},
   "outputs": [
    {
     "data": {
      "text/html": [
       "<div>\n",
       "<style scoped>\n",
       "    .dataframe tbody tr th:only-of-type {\n",
       "        vertical-align: middle;\n",
       "    }\n",
       "\n",
       "    .dataframe tbody tr th {\n",
       "        vertical-align: top;\n",
       "    }\n",
       "\n",
       "    .dataframe thead th {\n",
       "        text-align: right;\n",
       "    }\n",
       "</style>\n",
       "<table border=\"1\" class=\"dataframe\">\n",
       "  <thead>\n",
       "    <tr style=\"text-align: right;\">\n",
       "      <th>week_day</th>\n",
       "      <th>Friday</th>\n",
       "      <th>Monday</th>\n",
       "      <th>Saturday</th>\n",
       "      <th>Sunday</th>\n",
       "      <th>Thursday</th>\n",
       "      <th>Tuesday</th>\n",
       "      <th>Wednesday</th>\n",
       "    </tr>\n",
       "    <tr>\n",
       "      <th>week_number</th>\n",
       "      <th></th>\n",
       "      <th></th>\n",
       "      <th></th>\n",
       "      <th></th>\n",
       "      <th></th>\n",
       "      <th></th>\n",
       "      <th></th>\n",
       "    </tr>\n",
       "  </thead>\n",
       "  <tbody>\n",
       "    <tr>\n",
       "      <th>1</th>\n",
       "      <td>NaN</td>\n",
       "      <td>0.095628</td>\n",
       "      <td>NaN</td>\n",
       "      <td>NaN</td>\n",
       "      <td>NaN</td>\n",
       "      <td>NaN</td>\n",
       "      <td>NaN</td>\n",
       "    </tr>\n",
       "    <tr>\n",
       "      <th>2</th>\n",
       "      <td>NaN</td>\n",
       "      <td>NaN</td>\n",
       "      <td>0.209486</td>\n",
       "      <td>0.059102</td>\n",
       "      <td>NaN</td>\n",
       "      <td>NaN</td>\n",
       "      <td>NaN</td>\n",
       "    </tr>\n",
       "    <tr>\n",
       "      <th>5</th>\n",
       "      <td>NaN</td>\n",
       "      <td>NaN</td>\n",
       "      <td>NaN</td>\n",
       "      <td>NaN</td>\n",
       "      <td>0.200573</td>\n",
       "      <td>NaN</td>\n",
       "      <td>0.071240</td>\n",
       "    </tr>\n",
       "    <tr>\n",
       "      <th>7</th>\n",
       "      <td>NaN</td>\n",
       "      <td>NaN</td>\n",
       "      <td>NaN</td>\n",
       "      <td>NaN</td>\n",
       "      <td>NaN</td>\n",
       "      <td>0.151057</td>\n",
       "      <td>0.180905</td>\n",
       "    </tr>\n",
       "    <tr>\n",
       "      <th>9</th>\n",
       "      <td>NaN</td>\n",
       "      <td>NaN</td>\n",
       "      <td>NaN</td>\n",
       "      <td>NaN</td>\n",
       "      <td>0.181159</td>\n",
       "      <td>NaN</td>\n",
       "      <td>0.151786</td>\n",
       "    </tr>\n",
       "  </tbody>\n",
       "</table>\n",
       "</div>"
      ],
      "text/plain": [
       "week_day     Friday    Monday  Saturday    Sunday  Thursday   Tuesday  \\\n",
       "week_number                                                             \n",
       "1               NaN  0.095628       NaN       NaN       NaN       NaN   \n",
       "2               NaN       NaN  0.209486  0.059102       NaN       NaN   \n",
       "5               NaN       NaN       NaN       NaN  0.200573       NaN   \n",
       "7               NaN       NaN       NaN       NaN       NaN  0.151057   \n",
       "9               NaN       NaN       NaN       NaN  0.181159       NaN   \n",
       "\n",
       "week_day     Wednesday  \n",
       "week_number             \n",
       "1                  NaN  \n",
       "2                  NaN  \n",
       "5             0.071240  \n",
       "7             0.180905  \n",
       "9             0.151786  "
      ]
     },
     "execution_count": 37,
     "metadata": {},
     "output_type": "execute_result"
    }
   ],
   "source": [
    "engagement_df.head()"
   ]
  },
  {
   "cell_type": "code",
   "execution_count": 38,
   "id": "2736cc85",
   "metadata": {},
   "outputs": [
    {
     "data": {
      "text/plain": [
       "35"
      ]
     },
     "execution_count": 38,
     "metadata": {},
     "output_type": "execute_result"
    }
   ],
   "source": [
    "len(engagement_df)"
   ]
  },
  {
   "cell_type": "code",
   "execution_count": 39,
   "id": "8cef76ad",
   "metadata": {},
   "outputs": [
    {
     "data": {
      "text/html": [
       "<div>\n",
       "<style scoped>\n",
       "    .dataframe tbody tr th:only-of-type {\n",
       "        vertical-align: middle;\n",
       "    }\n",
       "\n",
       "    .dataframe tbody tr th {\n",
       "        vertical-align: top;\n",
       "    }\n",
       "\n",
       "    .dataframe thead th {\n",
       "        text-align: right;\n",
       "    }\n",
       "</style>\n",
       "<table border=\"1\" class=\"dataframe\">\n",
       "  <thead>\n",
       "    <tr style=\"text-align: right;\">\n",
       "      <th>week_day</th>\n",
       "      <th>Friday</th>\n",
       "      <th>Monday</th>\n",
       "      <th>Saturday</th>\n",
       "      <th>Sunday</th>\n",
       "      <th>Thursday</th>\n",
       "      <th>Tuesday</th>\n",
       "      <th>Wednesday</th>\n",
       "    </tr>\n",
       "    <tr>\n",
       "      <th>week_number</th>\n",
       "      <th></th>\n",
       "      <th></th>\n",
       "      <th></th>\n",
       "      <th></th>\n",
       "      <th></th>\n",
       "      <th></th>\n",
       "      <th></th>\n",
       "    </tr>\n",
       "  </thead>\n",
       "  <tbody>\n",
       "    <tr>\n",
       "      <th>11</th>\n",
       "      <td>0.060475</td>\n",
       "      <td>0.143275</td>\n",
       "      <td>0.041667</td>\n",
       "      <td>0.195777</td>\n",
       "      <td>0.083788</td>\n",
       "      <td>0.335196</td>\n",
       "      <td>0.203971</td>\n",
       "    </tr>\n",
       "    <tr>\n",
       "      <th>12</th>\n",
       "      <td>0.120275</td>\n",
       "      <td>0.040000</td>\n",
       "      <td>0.042857</td>\n",
       "      <td>0.126095</td>\n",
       "      <td>0.184211</td>\n",
       "      <td>0.325000</td>\n",
       "      <td>0.273810</td>\n",
       "    </tr>\n",
       "    <tr>\n",
       "      <th>16</th>\n",
       "      <td>0.170530</td>\n",
       "      <td>0.225000</td>\n",
       "      <td>0.150794</td>\n",
       "      <td>0.049145</td>\n",
       "      <td>0.095506</td>\n",
       "      <td>0.179211</td>\n",
       "      <td>0.117808</td>\n",
       "    </tr>\n",
       "    <tr>\n",
       "      <th>47</th>\n",
       "      <td>0.190291</td>\n",
       "      <td>0.215496</td>\n",
       "      <td>0.178808</td>\n",
       "      <td>0.112150</td>\n",
       "      <td>0.134146</td>\n",
       "      <td>0.060071</td>\n",
       "      <td>0.077358</td>\n",
       "    </tr>\n",
       "    <tr>\n",
       "      <th>48</th>\n",
       "      <td>0.231526</td>\n",
       "      <td>0.135321</td>\n",
       "      <td>0.056590</td>\n",
       "      <td>0.048828</td>\n",
       "      <td>0.071291</td>\n",
       "      <td>0.347134</td>\n",
       "      <td>0.103211</td>\n",
       "    </tr>\n",
       "    <tr>\n",
       "      <th>51</th>\n",
       "      <td>0.072034</td>\n",
       "      <td>0.090090</td>\n",
       "      <td>0.180505</td>\n",
       "      <td>0.035514</td>\n",
       "      <td>0.103896</td>\n",
       "      <td>0.288421</td>\n",
       "      <td>0.140127</td>\n",
       "    </tr>\n",
       "    <tr>\n",
       "      <th>52</th>\n",
       "      <td>0.279359</td>\n",
       "      <td>0.216080</td>\n",
       "      <td>0.030516</td>\n",
       "      <td>0.134328</td>\n",
       "      <td>0.207516</td>\n",
       "      <td>0.312187</td>\n",
       "      <td>0.273171</td>\n",
       "    </tr>\n",
       "  </tbody>\n",
       "</table>\n",
       "</div>"
      ],
      "text/plain": [
       "week_day       Friday    Monday  Saturday    Sunday  Thursday   Tuesday  \\\n",
       "week_number                                                               \n",
       "11           0.060475  0.143275  0.041667  0.195777  0.083788  0.335196   \n",
       "12           0.120275  0.040000  0.042857  0.126095  0.184211  0.325000   \n",
       "16           0.170530  0.225000  0.150794  0.049145  0.095506  0.179211   \n",
       "47           0.190291  0.215496  0.178808  0.112150  0.134146  0.060071   \n",
       "48           0.231526  0.135321  0.056590  0.048828  0.071291  0.347134   \n",
       "51           0.072034  0.090090  0.180505  0.035514  0.103896  0.288421   \n",
       "52           0.279359  0.216080  0.030516  0.134328  0.207516  0.312187   \n",
       "\n",
       "week_day     Wednesday  \n",
       "week_number             \n",
       "11            0.203971  \n",
       "12            0.273810  \n",
       "16            0.117808  \n",
       "47            0.077358  \n",
       "48            0.103211  \n",
       "51            0.140127  \n",
       "52            0.273171  "
      ]
     },
     "execution_count": 39,
     "metadata": {},
     "output_type": "execute_result"
    }
   ],
   "source": [
    "# Drop the rows of the DataFrame that contain any NA value.\n",
    "engagement_df.dropna(axis=0)"
   ]
  }
 ],
 "metadata": {
  "kernelspec": {
   "display_name": "Python 3 (ipykernel)",
   "language": "python",
   "name": "python3"
  },
  "language_info": {
   "codemirror_mode": {
    "name": "ipython",
    "version": 3
   },
   "file_extension": ".py",
   "mimetype": "text/x-python",
   "name": "python",
   "nbconvert_exporter": "python",
   "pygments_lexer": "ipython3",
   "version": "3.8.8"
  },
  "toc": {
   "base_numbering": 1,
   "nav_menu": {},
   "number_sections": true,
   "sideBar": true,
   "skip_h1_title": false,
   "title_cell": "Table of Contents",
   "title_sidebar": "Contents",
   "toc_cell": false,
   "toc_position": {},
   "toc_section_display": true,
   "toc_window_display": false
  },
  "varInspector": {
   "cols": {
    "lenName": 16,
    "lenType": 16,
    "lenVar": 40
   },
   "kernels_config": {
    "python": {
     "delete_cmd_postfix": "",
     "delete_cmd_prefix": "del ",
     "library": "var_list.py",
     "varRefreshCmd": "print(var_dic_list())"
    },
    "r": {
     "delete_cmd_postfix": ") ",
     "delete_cmd_prefix": "rm(",
     "library": "var_list.r",
     "varRefreshCmd": "cat(var_dic_list()) "
    }
   },
   "types_to_exclude": [
    "module",
    "function",
    "builtin_function_or_method",
    "instance",
    "_Feature"
   ],
   "window_display": false
  }
 },
 "nbformat": 4,
 "nbformat_minor": 5
}
