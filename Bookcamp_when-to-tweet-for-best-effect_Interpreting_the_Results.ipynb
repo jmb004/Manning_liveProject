{
 "cells": [
  {
   "cell_type": "markdown",
   "id": "058095e5",
   "metadata": {},
   "source": [
    "# Import pandas and NumPy libraries."
   ]
  },
  {
   "cell_type": "code",
   "execution_count": 38,
   "id": "ad2b7a24",
   "metadata": {},
   "outputs": [],
   "source": [
    "import pandas as pd\n",
    "import numpy as np\n",
    "import seaborn as sns\n",
    "import matplotlib.pyplot as plt"
   ]
  },
  {
   "cell_type": "markdown",
   "id": "060676ad",
   "metadata": {},
   "source": [
    "# Read the tweet_engagements.csv file as pandas DataFrame."
   ]
  },
  {
   "cell_type": "code",
   "execution_count": 6,
   "id": "ad9a7ad9",
   "metadata": {},
   "outputs": [],
   "source": [
    "tweets = pd.read_csv(\"tweet_engagements.csv\")"
   ]
  },
  {
   "cell_type": "markdown",
   "id": "37acf3ba",
   "metadata": {},
   "source": [
    "# Explore the dataset using pandas functions."
   ]
  },
  {
   "cell_type": "code",
   "execution_count": 7,
   "id": "482c4e58",
   "metadata": {},
   "outputs": [
    {
     "data": {
      "text/html": [
       "<div>\n",
       "<style scoped>\n",
       "    .dataframe tbody tr th:only-of-type {\n",
       "        vertical-align: middle;\n",
       "    }\n",
       "\n",
       "    .dataframe tbody tr th {\n",
       "        vertical-align: top;\n",
       "    }\n",
       "\n",
       "    .dataframe thead th {\n",
       "        text-align: right;\n",
       "    }\n",
       "</style>\n",
       "<table border=\"1\" class=\"dataframe\">\n",
       "  <thead>\n",
       "    <tr style=\"text-align: right;\">\n",
       "      <th></th>\n",
       "      <th>Date</th>\n",
       "      <th>Impression</th>\n",
       "      <th>Engagement</th>\n",
       "    </tr>\n",
       "  </thead>\n",
       "  <tbody>\n",
       "    <tr>\n",
       "      <th>0</th>\n",
       "      <td>1.11.2020</td>\n",
       "      <td>506</td>\n",
       "      <td>106</td>\n",
       "    </tr>\n",
       "    <tr>\n",
       "      <th>1</th>\n",
       "      <td>2.11.2020</td>\n",
       "      <td>331</td>\n",
       "      <td>50</td>\n",
       "    </tr>\n",
       "    <tr>\n",
       "      <th>2</th>\n",
       "      <td>3.11.2020</td>\n",
       "      <td>377</td>\n",
       "      <td>86</td>\n",
       "    </tr>\n",
       "    <tr>\n",
       "      <th>3</th>\n",
       "      <td>4.11.2020</td>\n",
       "      <td>333</td>\n",
       "      <td>108</td>\n",
       "    </tr>\n",
       "    <tr>\n",
       "      <th>4</th>\n",
       "      <td>5.11.2020</td>\n",
       "      <td>558</td>\n",
       "      <td>31</td>\n",
       "    </tr>\n",
       "  </tbody>\n",
       "</table>\n",
       "</div>"
      ],
      "text/plain": [
       "        Date  Impression  Engagement\n",
       "0  1.11.2020         506         106\n",
       "1  2.11.2020         331          50\n",
       "2  3.11.2020         377          86\n",
       "3  4.11.2020         333         108\n",
       "4  5.11.2020         558          31"
      ]
     },
     "execution_count": 7,
     "metadata": {},
     "output_type": "execute_result"
    }
   ],
   "source": [
    "tweets.head()"
   ]
  },
  {
   "cell_type": "code",
   "execution_count": 8,
   "id": "e4b6b89a",
   "metadata": {},
   "outputs": [
    {
     "data": {
      "text/html": [
       "<div>\n",
       "<style scoped>\n",
       "    .dataframe tbody tr th:only-of-type {\n",
       "        vertical-align: middle;\n",
       "    }\n",
       "\n",
       "    .dataframe tbody tr th {\n",
       "        vertical-align: top;\n",
       "    }\n",
       "\n",
       "    .dataframe thead th {\n",
       "        text-align: right;\n",
       "    }\n",
       "</style>\n",
       "<table border=\"1\" class=\"dataframe\">\n",
       "  <thead>\n",
       "    <tr style=\"text-align: right;\">\n",
       "      <th></th>\n",
       "      <th>Date</th>\n",
       "      <th>Impression</th>\n",
       "      <th>Engagement</th>\n",
       "    </tr>\n",
       "  </thead>\n",
       "  <tbody>\n",
       "    <tr>\n",
       "      <th>117</th>\n",
       "      <td>26.04.2021</td>\n",
       "      <td>319</td>\n",
       "      <td>26</td>\n",
       "    </tr>\n",
       "    <tr>\n",
       "      <th>118</th>\n",
       "      <td>27.04.2021</td>\n",
       "      <td>397</td>\n",
       "      <td>119</td>\n",
       "    </tr>\n",
       "    <tr>\n",
       "      <th>119</th>\n",
       "      <td>28.04.2021</td>\n",
       "      <td>531</td>\n",
       "      <td>124</td>\n",
       "    </tr>\n",
       "    <tr>\n",
       "      <th>120</th>\n",
       "      <td>29.04.2021</td>\n",
       "      <td>150</td>\n",
       "      <td>28</td>\n",
       "    </tr>\n",
       "    <tr>\n",
       "      <th>121</th>\n",
       "      <td>30.04.2021</td>\n",
       "      <td>253</td>\n",
       "      <td>40</td>\n",
       "    </tr>\n",
       "  </tbody>\n",
       "</table>\n",
       "</div>"
      ],
      "text/plain": [
       "           Date  Impression  Engagement\n",
       "117  26.04.2021         319          26\n",
       "118  27.04.2021         397         119\n",
       "119  28.04.2021         531         124\n",
       "120  29.04.2021         150          28\n",
       "121  30.04.2021         253          40"
      ]
     },
     "execution_count": 8,
     "metadata": {},
     "output_type": "execute_result"
    }
   ],
   "source": [
    "tweets.tail()"
   ]
  },
  {
   "cell_type": "code",
   "execution_count": 9,
   "id": "3b82f7be",
   "metadata": {},
   "outputs": [
    {
     "name": "stdout",
     "output_type": "stream",
     "text": [
      "<class 'pandas.core.frame.DataFrame'>\n",
      "RangeIndex: 122 entries, 0 to 121\n",
      "Data columns (total 3 columns):\n",
      " #   Column      Non-Null Count  Dtype \n",
      "---  ------      --------------  ----- \n",
      " 0   Date        122 non-null    object\n",
      " 1   Impression  122 non-null    int64 \n",
      " 2   Engagement  122 non-null    int64 \n",
      "dtypes: int64(2), object(1)\n",
      "memory usage: 3.0+ KB\n"
     ]
    }
   ],
   "source": [
    "tweets.info()"
   ]
  },
  {
   "cell_type": "code",
   "execution_count": 10,
   "id": "1a2406c3",
   "metadata": {},
   "outputs": [
    {
     "data": {
      "text/html": [
       "<div>\n",
       "<style scoped>\n",
       "    .dataframe tbody tr th:only-of-type {\n",
       "        vertical-align: middle;\n",
       "    }\n",
       "\n",
       "    .dataframe tbody tr th {\n",
       "        vertical-align: top;\n",
       "    }\n",
       "\n",
       "    .dataframe thead th {\n",
       "        text-align: right;\n",
       "    }\n",
       "</style>\n",
       "<table border=\"1\" class=\"dataframe\">\n",
       "  <thead>\n",
       "    <tr style=\"text-align: right;\">\n",
       "      <th></th>\n",
       "      <th>Impression</th>\n",
       "      <th>Engagement</th>\n",
       "    </tr>\n",
       "  </thead>\n",
       "  <tbody>\n",
       "    <tr>\n",
       "      <th>count</th>\n",
       "      <td>122.000000</td>\n",
       "      <td>122.000000</td>\n",
       "    </tr>\n",
       "    <tr>\n",
       "      <th>mean</th>\n",
       "      <td>358.049180</td>\n",
       "      <td>53.860656</td>\n",
       "    </tr>\n",
       "    <tr>\n",
       "      <th>std</th>\n",
       "      <td>147.129552</td>\n",
       "      <td>37.894659</td>\n",
       "    </tr>\n",
       "    <tr>\n",
       "      <th>min</th>\n",
       "      <td>111.000000</td>\n",
       "      <td>7.000000</td>\n",
       "    </tr>\n",
       "    <tr>\n",
       "      <th>25%</th>\n",
       "      <td>228.000000</td>\n",
       "      <td>25.250000</td>\n",
       "    </tr>\n",
       "    <tr>\n",
       "      <th>50%</th>\n",
       "      <td>360.000000</td>\n",
       "      <td>44.000000</td>\n",
       "    </tr>\n",
       "    <tr>\n",
       "      <th>75%</th>\n",
       "      <td>478.750000</td>\n",
       "      <td>72.000000</td>\n",
       "    </tr>\n",
       "    <tr>\n",
       "      <th>max</th>\n",
       "      <td>619.000000</td>\n",
       "      <td>187.000000</td>\n",
       "    </tr>\n",
       "  </tbody>\n",
       "</table>\n",
       "</div>"
      ],
      "text/plain": [
       "       Impression  Engagement\n",
       "count  122.000000  122.000000\n",
       "mean   358.049180   53.860656\n",
       "std    147.129552   37.894659\n",
       "min    111.000000    7.000000\n",
       "25%    228.000000   25.250000\n",
       "50%    360.000000   44.000000\n",
       "75%    478.750000   72.000000\n",
       "max    619.000000  187.000000"
      ]
     },
     "execution_count": 10,
     "metadata": {},
     "output_type": "execute_result"
    }
   ],
   "source": [
    "tweets.describe()"
   ]
  },
  {
   "cell_type": "code",
   "execution_count": 11,
   "id": "50fcf046",
   "metadata": {},
   "outputs": [
    {
     "data": {
      "text/html": [
       "<div>\n",
       "<style scoped>\n",
       "    .dataframe tbody tr th:only-of-type {\n",
       "        vertical-align: middle;\n",
       "    }\n",
       "\n",
       "    .dataframe tbody tr th {\n",
       "        vertical-align: top;\n",
       "    }\n",
       "\n",
       "    .dataframe thead th {\n",
       "        text-align: right;\n",
       "    }\n",
       "</style>\n",
       "<table border=\"1\" class=\"dataframe\">\n",
       "  <thead>\n",
       "    <tr style=\"text-align: right;\">\n",
       "      <th></th>\n",
       "      <th>Date</th>\n",
       "      <th>Impression</th>\n",
       "      <th>Engagement</th>\n",
       "    </tr>\n",
       "  </thead>\n",
       "  <tbody>\n",
       "  </tbody>\n",
       "</table>\n",
       "</div>"
      ],
      "text/plain": [
       "Empty DataFrame\n",
       "Columns: [Date, Impression, Engagement]\n",
       "Index: []"
      ]
     },
     "execution_count": 11,
     "metadata": {},
     "output_type": "execute_result"
    }
   ],
   "source": [
    "tweets[tweets.duplicated() == True]"
   ]
  },
  {
   "cell_type": "code",
   "execution_count": 12,
   "id": "5f08b7ec",
   "metadata": {},
   "outputs": [
    {
     "data": {
      "text/plain": [
       "1.11.2020     1\n",
       "31.03.2021    1\n",
       "29.03.2021    1\n",
       "28.03.2021    1\n",
       "27.03.2021    1\n",
       "Name: Date, dtype: int64"
      ]
     },
     "metadata": {},
     "output_type": "display_data"
    },
    {
     "data": {
      "text/plain": [
       "360    3\n",
       "112    2\n",
       "196    2\n",
       "582    2\n",
       "124    2\n",
       "Name: Impression, dtype: int64"
      ]
     },
     "metadata": {},
     "output_type": "display_data"
    },
    {
     "data": {
      "text/plain": [
       "36    4\n",
       "45    4\n",
       "50    3\n",
       "21    3\n",
       "86    3\n",
       "Name: Engagement, dtype: int64"
      ]
     },
     "metadata": {},
     "output_type": "display_data"
    }
   ],
   "source": [
    "for cn,c in tweets.iteritems():\n",
    "    display(c.value_counts().nlargest(n = 5))"
   ]
  },
  {
   "cell_type": "code",
   "execution_count": 13,
   "id": "6c59f05e",
   "metadata": {},
   "outputs": [
    {
     "data": {
      "text/plain": [
       "1.11.2020     1\n",
       "31.03.2021    1\n",
       "29.03.2021    1\n",
       "28.03.2021    1\n",
       "27.03.2021    1\n",
       "26.03.2021    1\n",
       "Name: Date, dtype: int64"
      ]
     },
     "metadata": {},
     "output_type": "display_data"
    },
    {
     "data": {
      "text/plain": [
       "416    1\n",
       "571    1\n",
       "280    1\n",
       "147    1\n",
       "252    1\n",
       "158    1\n",
       "Name: Impression, dtype: int64"
      ]
     },
     "metadata": {},
     "output_type": "display_data"
    },
    {
     "data": {
      "text/plain": [
       "75     1\n",
       "117    1\n",
       "180    1\n",
       "103    1\n",
       "51     1\n",
       "102    1\n",
       "Name: Engagement, dtype: int64"
      ]
     },
     "metadata": {},
     "output_type": "display_data"
    }
   ],
   "source": [
    "for cn,c in tweets.iteritems():\n",
    "    display(c.value_counts().nsmallest(n = 6))"
   ]
  },
  {
   "cell_type": "code",
   "execution_count": 14,
   "id": "9a10a1fc",
   "metadata": {},
   "outputs": [
    {
     "data": {
      "text/plain": [
       "Date          122\n",
       "Impression    111\n",
       "Engagement     76\n",
       "dtype: int64"
      ]
     },
     "execution_count": 14,
     "metadata": {},
     "output_type": "execute_result"
    }
   ],
   "source": [
    "tweets.nunique()"
   ]
  },
  {
   "cell_type": "code",
   "execution_count": 15,
   "id": "f84accc0",
   "metadata": {},
   "outputs": [
    {
     "data": {
      "text/plain": [
       "1.11.2020     0.819672\n",
       "31.03.2021    0.819672\n",
       "29.03.2021    0.819672\n",
       "28.03.2021    0.819672\n",
       "27.03.2021    0.819672\n",
       "                ...   \n",
       "7.12.2020     0.819672\n",
       "6.12.2020     0.819672\n",
       "5.12.2020     0.819672\n",
       "4.12.2020     0.819672\n",
       "30.04.2021    0.819672\n",
       "Name: Date, Length: 122, dtype: float64"
      ]
     },
     "metadata": {},
     "output_type": "display_data"
    },
    {
     "data": {
      "text/plain": [
       "360    2.459016\n",
       "112    1.639344\n",
       "196    1.639344\n",
       "582    1.639344\n",
       "124    1.639344\n",
       "         ...   \n",
       "552    0.819672\n",
       "227    0.819672\n",
       "297    0.819672\n",
       "465    0.819672\n",
       "253    0.819672\n",
       "Name: Impression, Length: 111, dtype: float64"
      ]
     },
     "metadata": {},
     "output_type": "display_data"
    },
    {
     "data": {
      "text/plain": [
       "36     3.278689\n",
       "45     3.278689\n",
       "50     2.459016\n",
       "21     2.459016\n",
       "86     2.459016\n",
       "         ...   \n",
       "112    0.819672\n",
       "157    0.819672\n",
       "42     0.819672\n",
       "27     0.819672\n",
       "124    0.819672\n",
       "Name: Engagement, Length: 76, dtype: float64"
      ]
     },
     "metadata": {},
     "output_type": "display_data"
    }
   ],
   "source": [
    "for cn,c in tweets.iteritems():\n",
    "    display(c.value_counts(normalize = True) * 100)"
   ]
  },
  {
   "cell_type": "markdown",
   "id": "72d679bb",
   "metadata": {},
   "source": [
    "# Transforming the Dataset"
   ]
  },
  {
   "cell_type": "markdown",
   "id": "6ceb1af8",
   "metadata": {},
   "source": [
    "## Generate a DataFrame that contains week numbers in rows, week day names in columns, and engagement rates as values."
   ]
  },
  {
   "cell_type": "code",
   "execution_count": 16,
   "id": "7679917a",
   "metadata": {},
   "outputs": [],
   "source": [
    "# Transform the Date column into a pandas date-time format\n",
    "tweets[\"Date\"] = pd.to_datetime(tweets[\"Date\"])"
   ]
  },
  {
   "cell_type": "code",
   "execution_count": 17,
   "id": "b8da40f1",
   "metadata": {},
   "outputs": [
    {
     "name": "stdout",
     "output_type": "stream",
     "text": [
      "<class 'pandas.core.frame.DataFrame'>\n",
      "RangeIndex: 122 entries, 0 to 121\n",
      "Data columns (total 3 columns):\n",
      " #   Column      Non-Null Count  Dtype         \n",
      "---  ------      --------------  -----         \n",
      " 0   Date        122 non-null    datetime64[ns]\n",
      " 1   Impression  122 non-null    int64         \n",
      " 2   Engagement  122 non-null    int64         \n",
      "dtypes: datetime64[ns](1), int64(2)\n",
      "memory usage: 3.0 KB\n"
     ]
    }
   ],
   "source": [
    "tweets.info()"
   ]
  },
  {
   "cell_type": "code",
   "execution_count": 18,
   "id": "020dfbb2",
   "metadata": {},
   "outputs": [
    {
     "data": {
      "text/html": [
       "<div>\n",
       "<style scoped>\n",
       "    .dataframe tbody tr th:only-of-type {\n",
       "        vertical-align: middle;\n",
       "    }\n",
       "\n",
       "    .dataframe tbody tr th {\n",
       "        vertical-align: top;\n",
       "    }\n",
       "\n",
       "    .dataframe thead th {\n",
       "        text-align: right;\n",
       "    }\n",
       "</style>\n",
       "<table border=\"1\" class=\"dataframe\">\n",
       "  <thead>\n",
       "    <tr style=\"text-align: right;\">\n",
       "      <th></th>\n",
       "      <th>Date</th>\n",
       "      <th>Impression</th>\n",
       "      <th>Engagement</th>\n",
       "    </tr>\n",
       "  </thead>\n",
       "  <tbody>\n",
       "    <tr>\n",
       "      <th>0</th>\n",
       "      <td>2020-01-11</td>\n",
       "      <td>506</td>\n",
       "      <td>106</td>\n",
       "    </tr>\n",
       "    <tr>\n",
       "      <th>1</th>\n",
       "      <td>2020-02-11</td>\n",
       "      <td>331</td>\n",
       "      <td>50</td>\n",
       "    </tr>\n",
       "    <tr>\n",
       "      <th>2</th>\n",
       "      <td>2020-03-11</td>\n",
       "      <td>377</td>\n",
       "      <td>86</td>\n",
       "    </tr>\n",
       "    <tr>\n",
       "      <th>3</th>\n",
       "      <td>2020-04-11</td>\n",
       "      <td>333</td>\n",
       "      <td>108</td>\n",
       "    </tr>\n",
       "    <tr>\n",
       "      <th>4</th>\n",
       "      <td>2020-05-11</td>\n",
       "      <td>558</td>\n",
       "      <td>31</td>\n",
       "    </tr>\n",
       "  </tbody>\n",
       "</table>\n",
       "</div>"
      ],
      "text/plain": [
       "        Date  Impression  Engagement\n",
       "0 2020-01-11         506         106\n",
       "1 2020-02-11         331          50\n",
       "2 2020-03-11         377          86\n",
       "3 2020-04-11         333         108\n",
       "4 2020-05-11         558          31"
      ]
     },
     "execution_count": 18,
     "metadata": {},
     "output_type": "execute_result"
    }
   ],
   "source": [
    "tweets.head()"
   ]
  },
  {
   "cell_type": "code",
   "execution_count": 19,
   "id": "bf06a080",
   "metadata": {},
   "outputs": [],
   "source": [
    "# column that contains the names of the days of the week from Date.\n",
    "tweets['week_day'] = tweets[\"Date\"].dt.day_name()"
   ]
  },
  {
   "cell_type": "code",
   "execution_count": 20,
   "id": "8fb2fa58",
   "metadata": {},
   "outputs": [],
   "source": [
    "# Create a week_number column that contains the week number of the year from Date. Consider Monday as the starting day of the week.\n",
    "tweets['week_number'] = tweets['Date'].dt.isocalendar().week "
   ]
  },
  {
   "cell_type": "code",
   "execution_count": 21,
   "id": "14c4f9fb",
   "metadata": {},
   "outputs": [],
   "source": [
    "# Create a rate column that contains an engagement-per-impression rate.\n",
    "tweets['rate'] = tweets['Engagement'] / tweets['Impression']"
   ]
  },
  {
   "cell_type": "code",
   "execution_count": 22,
   "id": "5f8d147b",
   "metadata": {},
   "outputs": [
    {
     "data": {
      "text/html": [
       "<div>\n",
       "<style scoped>\n",
       "    .dataframe tbody tr th:only-of-type {\n",
       "        vertical-align: middle;\n",
       "    }\n",
       "\n",
       "    .dataframe tbody tr th {\n",
       "        vertical-align: top;\n",
       "    }\n",
       "\n",
       "    .dataframe thead th {\n",
       "        text-align: right;\n",
       "    }\n",
       "</style>\n",
       "<table border=\"1\" class=\"dataframe\">\n",
       "  <thead>\n",
       "    <tr style=\"text-align: right;\">\n",
       "      <th></th>\n",
       "      <th>Date</th>\n",
       "      <th>Impression</th>\n",
       "      <th>Engagement</th>\n",
       "      <th>week_day</th>\n",
       "      <th>week_number</th>\n",
       "      <th>rate</th>\n",
       "    </tr>\n",
       "  </thead>\n",
       "  <tbody>\n",
       "    <tr>\n",
       "      <th>0</th>\n",
       "      <td>2020-01-11</td>\n",
       "      <td>506</td>\n",
       "      <td>106</td>\n",
       "      <td>Saturday</td>\n",
       "      <td>2</td>\n",
       "      <td>0.209486</td>\n",
       "    </tr>\n",
       "    <tr>\n",
       "      <th>1</th>\n",
       "      <td>2020-02-11</td>\n",
       "      <td>331</td>\n",
       "      <td>50</td>\n",
       "      <td>Tuesday</td>\n",
       "      <td>7</td>\n",
       "      <td>0.151057</td>\n",
       "    </tr>\n",
       "    <tr>\n",
       "      <th>2</th>\n",
       "      <td>2020-03-11</td>\n",
       "      <td>377</td>\n",
       "      <td>86</td>\n",
       "      <td>Wednesday</td>\n",
       "      <td>11</td>\n",
       "      <td>0.228117</td>\n",
       "    </tr>\n",
       "    <tr>\n",
       "      <th>3</th>\n",
       "      <td>2020-04-11</td>\n",
       "      <td>333</td>\n",
       "      <td>108</td>\n",
       "      <td>Saturday</td>\n",
       "      <td>15</td>\n",
       "      <td>0.324324</td>\n",
       "    </tr>\n",
       "    <tr>\n",
       "      <th>4</th>\n",
       "      <td>2020-05-11</td>\n",
       "      <td>558</td>\n",
       "      <td>31</td>\n",
       "      <td>Monday</td>\n",
       "      <td>20</td>\n",
       "      <td>0.055556</td>\n",
       "    </tr>\n",
       "  </tbody>\n",
       "</table>\n",
       "</div>"
      ],
      "text/plain": [
       "        Date  Impression  Engagement   week_day  week_number      rate\n",
       "0 2020-01-11         506         106   Saturday            2  0.209486\n",
       "1 2020-02-11         331          50    Tuesday            7  0.151057\n",
       "2 2020-03-11         377          86  Wednesday           11  0.228117\n",
       "3 2020-04-11         333         108   Saturday           15  0.324324\n",
       "4 2020-05-11         558          31     Monday           20  0.055556"
      ]
     },
     "execution_count": 22,
     "metadata": {},
     "output_type": "execute_result"
    }
   ],
   "source": [
    "tweets.head()"
   ]
  },
  {
   "cell_type": "code",
   "execution_count": 23,
   "id": "a54fb166",
   "metadata": {},
   "outputs": [],
   "source": [
    "# Generate a DataFrame that contains week numbers in rows, week day names in columns, and engagement rates as values.\n",
    "engagement_df = tweets.pivot_table(index = \"week_number\", columns= \"week_day\", values= \"rate\")"
   ]
  },
  {
   "cell_type": "code",
   "execution_count": 24,
   "id": "bf5e3780",
   "metadata": {},
   "outputs": [
    {
     "data": {
      "text/html": [
       "<div>\n",
       "<style scoped>\n",
       "    .dataframe tbody tr th:only-of-type {\n",
       "        vertical-align: middle;\n",
       "    }\n",
       "\n",
       "    .dataframe tbody tr th {\n",
       "        vertical-align: top;\n",
       "    }\n",
       "\n",
       "    .dataframe thead th {\n",
       "        text-align: right;\n",
       "    }\n",
       "</style>\n",
       "<table border=\"1\" class=\"dataframe\">\n",
       "  <thead>\n",
       "    <tr style=\"text-align: right;\">\n",
       "      <th>week_day</th>\n",
       "      <th>Friday</th>\n",
       "      <th>Monday</th>\n",
       "      <th>Saturday</th>\n",
       "      <th>Sunday</th>\n",
       "      <th>Thursday</th>\n",
       "      <th>Tuesday</th>\n",
       "      <th>Wednesday</th>\n",
       "    </tr>\n",
       "    <tr>\n",
       "      <th>week_number</th>\n",
       "      <th></th>\n",
       "      <th></th>\n",
       "      <th></th>\n",
       "      <th></th>\n",
       "      <th></th>\n",
       "      <th></th>\n",
       "      <th></th>\n",
       "    </tr>\n",
       "  </thead>\n",
       "  <tbody>\n",
       "    <tr>\n",
       "      <th>1</th>\n",
       "      <td>NaN</td>\n",
       "      <td>0.095628</td>\n",
       "      <td>NaN</td>\n",
       "      <td>NaN</td>\n",
       "      <td>NaN</td>\n",
       "      <td>NaN</td>\n",
       "      <td>NaN</td>\n",
       "    </tr>\n",
       "    <tr>\n",
       "      <th>2</th>\n",
       "      <td>NaN</td>\n",
       "      <td>NaN</td>\n",
       "      <td>0.209486</td>\n",
       "      <td>0.059102</td>\n",
       "      <td>NaN</td>\n",
       "      <td>NaN</td>\n",
       "      <td>NaN</td>\n",
       "    </tr>\n",
       "    <tr>\n",
       "      <th>5</th>\n",
       "      <td>NaN</td>\n",
       "      <td>NaN</td>\n",
       "      <td>NaN</td>\n",
       "      <td>NaN</td>\n",
       "      <td>0.200573</td>\n",
       "      <td>NaN</td>\n",
       "      <td>0.071240</td>\n",
       "    </tr>\n",
       "    <tr>\n",
       "      <th>7</th>\n",
       "      <td>NaN</td>\n",
       "      <td>NaN</td>\n",
       "      <td>NaN</td>\n",
       "      <td>NaN</td>\n",
       "      <td>NaN</td>\n",
       "      <td>0.151057</td>\n",
       "      <td>0.180905</td>\n",
       "    </tr>\n",
       "    <tr>\n",
       "      <th>9</th>\n",
       "      <td>NaN</td>\n",
       "      <td>NaN</td>\n",
       "      <td>NaN</td>\n",
       "      <td>NaN</td>\n",
       "      <td>0.181159</td>\n",
       "      <td>NaN</td>\n",
       "      <td>0.151786</td>\n",
       "    </tr>\n",
       "    <tr>\n",
       "      <th>10</th>\n",
       "      <td>NaN</td>\n",
       "      <td>NaN</td>\n",
       "      <td>0.143251</td>\n",
       "      <td>0.195335</td>\n",
       "      <td>NaN</td>\n",
       "      <td>NaN</td>\n",
       "      <td>NaN</td>\n",
       "    </tr>\n",
       "    <tr>\n",
       "      <th>11</th>\n",
       "      <td>0.060475</td>\n",
       "      <td>0.143275</td>\n",
       "      <td>0.041667</td>\n",
       "      <td>0.195777</td>\n",
       "      <td>0.083788</td>\n",
       "      <td>0.335196</td>\n",
       "      <td>0.203971</td>\n",
       "    </tr>\n",
       "    <tr>\n",
       "      <th>12</th>\n",
       "      <td>0.120275</td>\n",
       "      <td>0.040000</td>\n",
       "      <td>0.042857</td>\n",
       "      <td>0.126095</td>\n",
       "      <td>0.184211</td>\n",
       "      <td>0.325000</td>\n",
       "      <td>0.273810</td>\n",
       "    </tr>\n",
       "    <tr>\n",
       "      <th>13</th>\n",
       "      <td>NaN</td>\n",
       "      <td>0.119403</td>\n",
       "      <td>0.047619</td>\n",
       "      <td>0.035714</td>\n",
       "      <td>NaN</td>\n",
       "      <td>0.252404</td>\n",
       "      <td>0.115385</td>\n",
       "    </tr>\n",
       "    <tr>\n",
       "      <th>15</th>\n",
       "      <td>0.090047</td>\n",
       "      <td>NaN</td>\n",
       "      <td>0.204162</td>\n",
       "      <td>0.105251</td>\n",
       "      <td>0.128079</td>\n",
       "      <td>0.132394</td>\n",
       "      <td>0.193548</td>\n",
       "    </tr>\n",
       "    <tr>\n",
       "      <th>16</th>\n",
       "      <td>0.170530</td>\n",
       "      <td>0.225000</td>\n",
       "      <td>0.150794</td>\n",
       "      <td>0.049145</td>\n",
       "      <td>0.095506</td>\n",
       "      <td>0.179211</td>\n",
       "      <td>0.117808</td>\n",
       "    </tr>\n",
       "    <tr>\n",
       "      <th>17</th>\n",
       "      <td>0.158103</td>\n",
       "      <td>0.081505</td>\n",
       "      <td>NaN</td>\n",
       "      <td>NaN</td>\n",
       "      <td>0.186667</td>\n",
       "      <td>0.299748</td>\n",
       "      <td>0.233522</td>\n",
       "    </tr>\n",
       "    <tr>\n",
       "      <th>18</th>\n",
       "      <td>NaN</td>\n",
       "      <td>0.259494</td>\n",
       "      <td>NaN</td>\n",
       "      <td>NaN</td>\n",
       "      <td>NaN</td>\n",
       "      <td>0.168750</td>\n",
       "      <td>NaN</td>\n",
       "    </tr>\n",
       "    <tr>\n",
       "      <th>20</th>\n",
       "      <td>NaN</td>\n",
       "      <td>0.055556</td>\n",
       "      <td>NaN</td>\n",
       "      <td>NaN</td>\n",
       "      <td>NaN</td>\n",
       "      <td>0.161616</td>\n",
       "      <td>NaN</td>\n",
       "    </tr>\n",
       "    <tr>\n",
       "      <th>22</th>\n",
       "      <td>0.059774</td>\n",
       "      <td>NaN</td>\n",
       "      <td>NaN</td>\n",
       "      <td>NaN</td>\n",
       "      <td>0.144737</td>\n",
       "      <td>NaN</td>\n",
       "      <td>NaN</td>\n",
       "    </tr>\n",
       "    <tr>\n",
       "      <th>24</th>\n",
       "      <td>0.132159</td>\n",
       "      <td>NaN</td>\n",
       "      <td>NaN</td>\n",
       "      <td>NaN</td>\n",
       "      <td>0.139394</td>\n",
       "      <td>NaN</td>\n",
       "      <td>NaN</td>\n",
       "    </tr>\n",
       "    <tr>\n",
       "      <th>26</th>\n",
       "      <td>NaN</td>\n",
       "      <td>NaN</td>\n",
       "      <td>0.062857</td>\n",
       "      <td>0.064444</td>\n",
       "      <td>NaN</td>\n",
       "      <td>NaN</td>\n",
       "      <td>NaN</td>\n",
       "    </tr>\n",
       "    <tr>\n",
       "      <th>28</th>\n",
       "      <td>NaN</td>\n",
       "      <td>NaN</td>\n",
       "      <td>0.054264</td>\n",
       "      <td>0.215580</td>\n",
       "      <td>NaN</td>\n",
       "      <td>NaN</td>\n",
       "      <td>NaN</td>\n",
       "    </tr>\n",
       "    <tr>\n",
       "      <th>31</th>\n",
       "      <td>NaN</td>\n",
       "      <td>NaN</td>\n",
       "      <td>NaN</td>\n",
       "      <td>NaN</td>\n",
       "      <td>NaN</td>\n",
       "      <td>0.153584</td>\n",
       "      <td>0.133929</td>\n",
       "    </tr>\n",
       "    <tr>\n",
       "      <th>33</th>\n",
       "      <td>NaN</td>\n",
       "      <td>NaN</td>\n",
       "      <td>NaN</td>\n",
       "      <td>NaN</td>\n",
       "      <td>NaN</td>\n",
       "      <td>0.040761</td>\n",
       "      <td>0.160000</td>\n",
       "    </tr>\n",
       "    <tr>\n",
       "      <th>35</th>\n",
       "      <td>0.203361</td>\n",
       "      <td>NaN</td>\n",
       "      <td>0.241935</td>\n",
       "      <td>NaN</td>\n",
       "      <td>NaN</td>\n",
       "      <td>NaN</td>\n",
       "      <td>NaN</td>\n",
       "    </tr>\n",
       "    <tr>\n",
       "      <th>37</th>\n",
       "      <td>0.198980</td>\n",
       "      <td>NaN</td>\n",
       "      <td>0.169355</td>\n",
       "      <td>NaN</td>\n",
       "      <td>NaN</td>\n",
       "      <td>NaN</td>\n",
       "      <td>NaN</td>\n",
       "    </tr>\n",
       "    <tr>\n",
       "      <th>39</th>\n",
       "      <td>NaN</td>\n",
       "      <td>NaN</td>\n",
       "      <td>NaN</td>\n",
       "      <td>0.221649</td>\n",
       "      <td>NaN</td>\n",
       "      <td>NaN</td>\n",
       "      <td>NaN</td>\n",
       "    </tr>\n",
       "    <tr>\n",
       "      <th>40</th>\n",
       "      <td>NaN</td>\n",
       "      <td>0.101660</td>\n",
       "      <td>NaN</td>\n",
       "      <td>NaN</td>\n",
       "      <td>NaN</td>\n",
       "      <td>NaN</td>\n",
       "      <td>NaN</td>\n",
       "    </tr>\n",
       "    <tr>\n",
       "      <th>41</th>\n",
       "      <td>NaN</td>\n",
       "      <td>NaN</td>\n",
       "      <td>NaN</td>\n",
       "      <td>0.313653</td>\n",
       "      <td>NaN</td>\n",
       "      <td>NaN</td>\n",
       "      <td>NaN</td>\n",
       "    </tr>\n",
       "    <tr>\n",
       "      <th>42</th>\n",
       "      <td>NaN</td>\n",
       "      <td>0.208092</td>\n",
       "      <td>NaN</td>\n",
       "      <td>NaN</td>\n",
       "      <td>NaN</td>\n",
       "      <td>NaN</td>\n",
       "      <td>NaN</td>\n",
       "    </tr>\n",
       "    <tr>\n",
       "      <th>44</th>\n",
       "      <td>NaN</td>\n",
       "      <td>NaN</td>\n",
       "      <td>NaN</td>\n",
       "      <td>NaN</td>\n",
       "      <td>0.055202</td>\n",
       "      <td>NaN</td>\n",
       "      <td>0.069182</td>\n",
       "    </tr>\n",
       "    <tr>\n",
       "      <th>46</th>\n",
       "      <td>0.282051</td>\n",
       "      <td>NaN</td>\n",
       "      <td>0.150568</td>\n",
       "      <td>0.077922</td>\n",
       "      <td>0.100897</td>\n",
       "      <td>NaN</td>\n",
       "      <td>0.104651</td>\n",
       "    </tr>\n",
       "    <tr>\n",
       "      <th>47</th>\n",
       "      <td>0.190291</td>\n",
       "      <td>0.215496</td>\n",
       "      <td>0.178808</td>\n",
       "      <td>0.112150</td>\n",
       "      <td>0.134146</td>\n",
       "      <td>0.060071</td>\n",
       "      <td>0.077358</td>\n",
       "    </tr>\n",
       "    <tr>\n",
       "      <th>48</th>\n",
       "      <td>0.231526</td>\n",
       "      <td>0.135321</td>\n",
       "      <td>0.056590</td>\n",
       "      <td>0.048828</td>\n",
       "      <td>0.071291</td>\n",
       "      <td>0.347134</td>\n",
       "      <td>0.103211</td>\n",
       "    </tr>\n",
       "    <tr>\n",
       "      <th>49</th>\n",
       "      <td>NaN</td>\n",
       "      <td>0.225564</td>\n",
       "      <td>NaN</td>\n",
       "      <td>NaN</td>\n",
       "      <td>NaN</td>\n",
       "      <td>NaN</td>\n",
       "      <td>NaN</td>\n",
       "    </tr>\n",
       "    <tr>\n",
       "      <th>50</th>\n",
       "      <td>0.104575</td>\n",
       "      <td>NaN</td>\n",
       "      <td>0.155556</td>\n",
       "      <td>0.211111</td>\n",
       "      <td>NaN</td>\n",
       "      <td>NaN</td>\n",
       "      <td>NaN</td>\n",
       "    </tr>\n",
       "    <tr>\n",
       "      <th>51</th>\n",
       "      <td>0.072034</td>\n",
       "      <td>0.090090</td>\n",
       "      <td>0.180505</td>\n",
       "      <td>0.035514</td>\n",
       "      <td>0.103896</td>\n",
       "      <td>0.288421</td>\n",
       "      <td>0.140127</td>\n",
       "    </tr>\n",
       "    <tr>\n",
       "      <th>52</th>\n",
       "      <td>0.279359</td>\n",
       "      <td>0.216080</td>\n",
       "      <td>0.030516</td>\n",
       "      <td>0.134328</td>\n",
       "      <td>0.207516</td>\n",
       "      <td>0.312187</td>\n",
       "      <td>0.273171</td>\n",
       "    </tr>\n",
       "    <tr>\n",
       "      <th>53</th>\n",
       "      <td>NaN</td>\n",
       "      <td>0.232044</td>\n",
       "      <td>NaN</td>\n",
       "      <td>0.216942</td>\n",
       "      <td>0.063790</td>\n",
       "      <td>0.263158</td>\n",
       "      <td>0.235537</td>\n",
       "    </tr>\n",
       "  </tbody>\n",
       "</table>\n",
       "</div>"
      ],
      "text/plain": [
       "week_day       Friday    Monday  Saturday    Sunday  Thursday   Tuesday  \\\n",
       "week_number                                                               \n",
       "1                 NaN  0.095628       NaN       NaN       NaN       NaN   \n",
       "2                 NaN       NaN  0.209486  0.059102       NaN       NaN   \n",
       "5                 NaN       NaN       NaN       NaN  0.200573       NaN   \n",
       "7                 NaN       NaN       NaN       NaN       NaN  0.151057   \n",
       "9                 NaN       NaN       NaN       NaN  0.181159       NaN   \n",
       "10                NaN       NaN  0.143251  0.195335       NaN       NaN   \n",
       "11           0.060475  0.143275  0.041667  0.195777  0.083788  0.335196   \n",
       "12           0.120275  0.040000  0.042857  0.126095  0.184211  0.325000   \n",
       "13                NaN  0.119403  0.047619  0.035714       NaN  0.252404   \n",
       "15           0.090047       NaN  0.204162  0.105251  0.128079  0.132394   \n",
       "16           0.170530  0.225000  0.150794  0.049145  0.095506  0.179211   \n",
       "17           0.158103  0.081505       NaN       NaN  0.186667  0.299748   \n",
       "18                NaN  0.259494       NaN       NaN       NaN  0.168750   \n",
       "20                NaN  0.055556       NaN       NaN       NaN  0.161616   \n",
       "22           0.059774       NaN       NaN       NaN  0.144737       NaN   \n",
       "24           0.132159       NaN       NaN       NaN  0.139394       NaN   \n",
       "26                NaN       NaN  0.062857  0.064444       NaN       NaN   \n",
       "28                NaN       NaN  0.054264  0.215580       NaN       NaN   \n",
       "31                NaN       NaN       NaN       NaN       NaN  0.153584   \n",
       "33                NaN       NaN       NaN       NaN       NaN  0.040761   \n",
       "35           0.203361       NaN  0.241935       NaN       NaN       NaN   \n",
       "37           0.198980       NaN  0.169355       NaN       NaN       NaN   \n",
       "39                NaN       NaN       NaN  0.221649       NaN       NaN   \n",
       "40                NaN  0.101660       NaN       NaN       NaN       NaN   \n",
       "41                NaN       NaN       NaN  0.313653       NaN       NaN   \n",
       "42                NaN  0.208092       NaN       NaN       NaN       NaN   \n",
       "44                NaN       NaN       NaN       NaN  0.055202       NaN   \n",
       "46           0.282051       NaN  0.150568  0.077922  0.100897       NaN   \n",
       "47           0.190291  0.215496  0.178808  0.112150  0.134146  0.060071   \n",
       "48           0.231526  0.135321  0.056590  0.048828  0.071291  0.347134   \n",
       "49                NaN  0.225564       NaN       NaN       NaN       NaN   \n",
       "50           0.104575       NaN  0.155556  0.211111       NaN       NaN   \n",
       "51           0.072034  0.090090  0.180505  0.035514  0.103896  0.288421   \n",
       "52           0.279359  0.216080  0.030516  0.134328  0.207516  0.312187   \n",
       "53                NaN  0.232044       NaN  0.216942  0.063790  0.263158   \n",
       "\n",
       "week_day     Wednesday  \n",
       "week_number             \n",
       "1                  NaN  \n",
       "2                  NaN  \n",
       "5             0.071240  \n",
       "7             0.180905  \n",
       "9             0.151786  \n",
       "10                 NaN  \n",
       "11            0.203971  \n",
       "12            0.273810  \n",
       "13            0.115385  \n",
       "15            0.193548  \n",
       "16            0.117808  \n",
       "17            0.233522  \n",
       "18                 NaN  \n",
       "20                 NaN  \n",
       "22                 NaN  \n",
       "24                 NaN  \n",
       "26                 NaN  \n",
       "28                 NaN  \n",
       "31            0.133929  \n",
       "33            0.160000  \n",
       "35                 NaN  \n",
       "37                 NaN  \n",
       "39                 NaN  \n",
       "40                 NaN  \n",
       "41                 NaN  \n",
       "42                 NaN  \n",
       "44            0.069182  \n",
       "46            0.104651  \n",
       "47            0.077358  \n",
       "48            0.103211  \n",
       "49                 NaN  \n",
       "50                 NaN  \n",
       "51            0.140127  \n",
       "52            0.273171  \n",
       "53            0.235537  "
      ]
     },
     "execution_count": 24,
     "metadata": {},
     "output_type": "execute_result"
    }
   ],
   "source": [
    "engagement_df"
   ]
  },
  {
   "cell_type": "code",
   "execution_count": 25,
   "id": "26a58a2b",
   "metadata": {},
   "outputs": [
    {
     "data": {
      "text/plain": [
       "35"
      ]
     },
     "execution_count": 25,
     "metadata": {},
     "output_type": "execute_result"
    }
   ],
   "source": [
    "len(engagement_df)"
   ]
  },
  {
   "cell_type": "code",
   "execution_count": 26,
   "id": "4c53d205",
   "metadata": {},
   "outputs": [],
   "source": [
    "# Drop the rows of the DataFrame that contain any NA value.\n",
    "engagement_df = engagement_df.dropna(axis=0)"
   ]
  },
  {
   "cell_type": "code",
   "execution_count": 27,
   "id": "982088f1",
   "metadata": {},
   "outputs": [
    {
     "name": "stdout",
     "output_type": "stream",
     "text": [
      "<class 'pandas.core.frame.DataFrame'>\n",
      "Index: 7 entries, 11 to 52\n",
      "Data columns (total 7 columns):\n",
      " #   Column     Non-Null Count  Dtype  \n",
      "---  ------     --------------  -----  \n",
      " 0   Friday     7 non-null      float64\n",
      " 1   Monday     7 non-null      float64\n",
      " 2   Saturday   7 non-null      float64\n",
      " 3   Sunday     7 non-null      float64\n",
      " 4   Thursday   7 non-null      float64\n",
      " 5   Tuesday    7 non-null      float64\n",
      " 6   Wednesday  7 non-null      float64\n",
      "dtypes: float64(7)\n",
      "memory usage: 448.0+ bytes\n"
     ]
    }
   ],
   "source": [
    "engagement_df.info()"
   ]
  },
  {
   "cell_type": "code",
   "execution_count": 25,
   "id": "d4fbad18",
   "metadata": {},
   "outputs": [
    {
     "data": {
      "text/plain": [
       "week_number\n",
       "11    0.060475\n",
       "12    0.120275\n",
       "16    0.170530\n",
       "47    0.190291\n",
       "48    0.231526\n",
       "51    0.072034\n",
       "52    0.279359\n",
       "Name: Friday, dtype: float64"
      ]
     },
     "execution_count": 25,
     "metadata": {},
     "output_type": "execute_result"
    }
   ],
   "source": [
    "engagement_df['Friday']"
   ]
  },
  {
   "cell_type": "markdown",
   "id": "bc0c872e",
   "metadata": {},
   "source": [
    "# Calculating P-Values"
   ]
  },
  {
   "cell_type": "markdown",
   "id": "351244ce",
   "metadata": {},
   "source": [
    "The hypothesis we aim to test is that Friday is the best day to get maximum tweet engagement. In this milestone, our objective is to calculate the p-values between Friday and other-day tweet engagement rates and interpret the significance of the relationship."
   ]
  },
  {
   "cell_type": "code",
   "execution_count": 74,
   "id": "9b3d1502",
   "metadata": {},
   "outputs": [],
   "source": [
    "# Write a function that takes two arrays as input arguments and returns a p-value of the permutation test.\n",
    "\n",
    "def pvalue_permutation(array1, array2): \n",
    "    # To calculate the p-value of the permutation test, apply these in a function:\n",
    "    # Calculate the means of the arrays and assign the absolute difference value of them to the extreme_mean_diff variable.\n",
    "    extreme_mean_diff = abs(array1.mean() - array2.mean())\n",
    "    print(f\"There is a {extreme_mean_diff:.2f} tweet engagement difference between the two means.\")\n",
    "    \n",
    "    # Stack two arrays column-wise into a single array.\n",
    "    concatenated_array = np.hstack([array1, array2])\n",
    "    \n",
    "    # Shuffle the merged array and\n",
    "    np.random.shuffle(concatenated_array)\n",
    "    \n",
    "    #  split it into two different arrays. \n",
    "    array1n, array2n = np.array_split(concatenated_array, 2)\n",
    "    \n",
    "    # Make the sample sizes the same as the initial arrays. \n",
    "    #assert array1n == len(array1)\n",
    "    #assert array2n.size == len(array2)\n",
    "    \n",
    "    array1n = concatenated_array[:array1.size]\n",
    "    array2n = concatenated_array[:array2.size]\n",
    "    \n",
    "    # Then calculate the means of these new arrays and their absolute difference value.\n",
    "    mean_diff = abs(array1.mean() - array2.mean())\n",
    "    print(\"Calculate the means of these new arrays and their absolute difference value.:\", mean_diff)\n",
    "    \n",
    "    # Repeat the process in the previous step 30,000 times and count how many times the new calculated absolute difference value is greater than our initial extreme_mean_diff value.\n",
    "    total_count = 0.0\n",
    "    \n",
    "    for _ in range(30000):\n",
    "        \n",
    "        # Stack two arrays column-wise into a single array.\n",
    "        concatenated_array = np.hstack([array1, array2])\n",
    "        \n",
    "        #shuffle\n",
    "        np.random.shuffle(concatenated_array)\n",
    "        \n",
    "        #split\n",
    "        array1n, array2n = np.array_split(concatenated_array, 2)\n",
    "        \n",
    "        #make sample size the same\n",
    "        assert array1n.size == len(array1)\n",
    "        assert array2n.size == len(array2)\n",
    "        \n",
    "        # count how many times the new calculated absolute difference value is greater than our initial extreme_mean_diff value.\n",
    "        if abs(array1n.mean() - array2n.mean()) >= extreme_mean_diff: # calculate means of new array and their abs. difference\n",
    "            \n",
    "            total_count += 1\n",
    "    \n",
    "    pvalue = total_count / 30000\n",
    "    print(f\"P-value is approximately {pvalue:.2f}\")\n",
    "    \n",
    "    return pvalue # Return the “total count” / 30,000 as a p-value."
   ]
  },
  {
   "cell_type": "code",
   "execution_count": 75,
   "id": "48472ad9",
   "metadata": {},
   "outputs": [],
   "source": [
    "# Assign 0 to a NumPy random seed value.\n",
    "np.random.seed(0)"
   ]
  },
  {
   "cell_type": "code",
   "execution_count": 76,
   "id": "d05a6eca",
   "metadata": {},
   "outputs": [
    {
     "name": "stdout",
     "output_type": "stream",
     "text": [
      "week_number\n",
      "11    0.060475\n",
      "12    0.120275\n",
      "Name: Friday, dtype: float64\n",
      "week_day       Monday  Saturday    Sunday  Thursday   Tuesday  Wednesday\n",
      "week_number                                                             \n",
      "11           0.143275  0.041667  0.195777  0.083788  0.335196   0.203971\n",
      "12           0.040000  0.042857  0.126095  0.184211  0.325000   0.273810\n"
     ]
    }
   ],
   "source": [
    "# Create two new DataFrames: One contains only one column with engagement rates for Friday, and the other contains 6 columns with engagement rates for other days. Use the DataFrame generated in the previous milestone for this task.\n",
    "df_Friday = engagement_df['Friday']\n",
    "other_days_rates = engagement_df.drop(columns='Friday')\n",
    "print(df_Friday.head(2))\n",
    "print(other_days_rates.head(2))"
   ]
  },
  {
   "cell_type": "code",
   "execution_count": 84,
   "id": "978e9060",
   "metadata": {},
   "outputs": [
    {
     "name": "stdout",
     "output_type": "stream",
     "text": [
      "There is a 0.01 cm difference between the two means.\n",
      "Calculate the means of these new arrays and their absolute difference value.: 0.00846108965933895\n",
      "P-value is approximately 0.84\n",
      "There is a 0.06 cm difference between the two means.\n",
      "Calculate the means of these new arrays and their absolute difference value.: 0.06325048690365369\n",
      "P-value is approximately 0.14\n",
      "There is a 0.06 cm difference between the two means.\n",
      "Calculate the means of these new arrays and their absolute difference value.: 0.06037902664870491\n",
      "P-value is approximately 0.13\n",
      "There is a 0.03 cm difference between the two means.\n",
      "Calculate the means of these new arrays and their absolute difference value.: 0.03487665110995161\n",
      "P-value is approximately 0.35\n",
      "There is a 0.10 cm difference between the two means.\n",
      "Calculate the means of these new arrays and their absolute difference value.: 0.10324700257943836\n",
      "P-value is approximately 0.07\n",
      "There is a 0.01 cm difference between the two means.\n",
      "Calculate the means of these new arrays and their absolute difference value.: 0.009280793805267168\n",
      "P-value is approximately 0.83\n"
     ]
    }
   ],
   "source": [
    "# Calculate the p-values between Friday and each other day using the permutation test function we created and store the p-values to a variable.\n",
    "#Fridays = pvalue_permutation(Friday_df)\n",
    "\n",
    "#Other_days = pvalue_permutation(Otherdays_df)\n",
    "\n",
    "\n",
    "# You can use pandas dictionaries to store the p-values for days.\n",
    "day_to_p_value = {}\n",
    "\n",
    "for day, rate in other_days_rates.items(): # rate is a series\n",
    "   \n",
    "    p_value = pvalue_permutation(df_Friday.to_numpy(), rate.to_numpy())\n",
    "    \n",
    "    #day_to_p_value[day].append(p_value)\n",
    "    day_to_p_value[str(day)] = p_value\n",
    "    \n",
    "    "
   ]
  },
  {
   "cell_type": "code",
   "execution_count": 85,
   "id": "4f4020f3",
   "metadata": {},
   "outputs": [
    {
     "data": {
      "text/plain": [
       "{'Monday': 0.8363666666666667,\n",
       " 'Saturday': 0.14053333333333334,\n",
       " 'Sunday': 0.1317,\n",
       " 'Thursday': 0.3514,\n",
       " 'Tuesday': 0.06756666666666666,\n",
       " 'Wednesday': 0.8271}"
      ]
     },
     "execution_count": 85,
     "metadata": {},
     "output_type": "execute_result"
    }
   ],
   "source": [
    "day_to_p_value"
   ]
  },
  {
   "cell_type": "code",
   "execution_count": 28,
   "id": "559506fd",
   "metadata": {},
   "outputs": [],
   "source": [
    "#full solution\n",
    "\n",
    "def permutation_test(data_array_a, data_array_b):\n",
    "    data_mean_a = data_array_a.mean()\n",
    "    data_mean_b = data_array_b.mean()\n",
    "    extreme_mean_diff = abs(data_mean_a - data_mean_b)\n",
    "    total_data = np.hstack([data_array_a, data_array_b])\n",
    "    number_extreme_values = 0.0\n",
    "    for _ in range(30000):\n",
    "        np.random.shuffle(total_data)\n",
    "        sample_a = total_data[:data_array_a.size]\n",
    "        sample_b = total_data[data_array_a.size:]\n",
    "        if abs(sample_a.mean() - sample_b.mean())  >= extreme_mean_diff:\n",
    "            number_extreme_values += 1\n",
    "\n",
    "    p_value = number_extreme_values / 30000\n",
    "    return p_value\n",
    "\n",
    "np.random.seed(0)\n",
    "friday_rates = engagement_df.Friday\n",
    "other_days_rates = engagement_df.drop(columns='Friday')\n",
    "\n",
    "day_to_p_value = {}\n",
    "for day, rate in other_days_rates.items():\n",
    "    p_value = permutation_test(friday_rates, rate)\n",
    "    day_to_p_value[day] = p_value"
   ]
  },
  {
   "cell_type": "markdown",
   "id": "8ee87f17",
   "metadata": {},
   "source": [
    "# Interpreting the Results"
   ]
  },
  {
   "cell_type": "markdown",
   "id": "b720d653",
   "metadata": {},
   "source": [
    "In this milestone, you will reach a conclusion about the hypothesis by interpreting the results of the permutation test."
   ]
  },
  {
   "cell_type": "markdown",
   "id": "1efecf9b",
   "metadata": {},
   "source": [
    "Workflow\n",
    "\n",
    "1. Print out the p-values for each day along with the averages of the engagement rates.\n",
    "\n",
    "2. Let’s assume the significance level is 0.05. Compare the average tweet engagement rate of Friday to that of other days, considering this p-value significance level.\n",
    "\n",
    "3. Find out how we can apply Bonferroni correction in this case and apply it to obtain an adjusted significance level.\n",
    "\n",
    "4. Interpret the p-values, but this time, use the adjusted significance level."
   ]
  },
  {
   "cell_type": "markdown",
   "id": "0172dd4f",
   "metadata": {},
   "source": [
    "## 1"
   ]
  },
  {
   "cell_type": "code",
   "execution_count": 29,
   "id": "464eb415",
   "metadata": {},
   "outputs": [
    {
     "data": {
      "text/plain": [
       "{'Monday': 0.8404,\n",
       " 'Saturday': 0.13956666666666667,\n",
       " 'Sunday': 0.13536666666666666,\n",
       " 'Thursday': 0.3568,\n",
       " 'Tuesday': 0.06626666666666667,\n",
       " 'Wednesday': 0.8295333333333333}"
      ]
     },
     "execution_count": 29,
     "metadata": {},
     "output_type": "execute_result"
    }
   ],
   "source": [
    "day_to_p_value"
   ]
  },
  {
   "cell_type": "code",
   "execution_count": 39,
   "id": "4f250bc6",
   "metadata": {},
   "outputs": [
    {
     "data": {
      "text/plain": [
       "week_day\n",
       "Monday       0.152180\n",
       "Saturday     0.097391\n",
       "Sunday       0.100262\n",
       "Thursday     0.125765\n",
       "Tuesday      0.263888\n",
       "Wednesday    0.169922\n",
       "dtype: float64"
      ]
     },
     "execution_count": 39,
     "metadata": {},
     "output_type": "execute_result"
    }
   ],
   "source": [
    "other_days_rates.mean()"
   ]
  },
  {
   "cell_type": "code",
   "execution_count": 40,
   "id": "97472bde",
   "metadata": {},
   "outputs": [
    {
     "data": {
      "text/plain": [
       "0.1606414917818364"
      ]
     },
     "execution_count": 40,
     "metadata": {},
     "output_type": "execute_result"
    }
   ],
   "source": [
    "friday_rates.mean()"
   ]
  },
  {
   "cell_type": "code",
   "execution_count": 52,
   "id": "94059fcd",
   "metadata": {},
   "outputs": [
    {
     "name": "stdout",
     "output_type": "stream",
     "text": [
      "Tuesday has a p-value of 0.06626666666666667 and a mean of 0.26388849436127476\n",
      "Sunday has a p-value of 0.13536666666666666 and a mean of 0.10026246513313149\n",
      "Saturday has a p-value of 0.13956666666666667 and a mean of 0.09739100487818271\n",
      "Thursday has a p-value of 0.3568 and a mean of 0.1257648406718848\n",
      "Wednesday has a p-value of 0.8295333333333333 and a mean of 0.16992228558710357\n",
      "Monday has a p-value of 0.8404 and a mean of 0.15218040212249745\n"
     ]
    }
   ],
   "source": [
    "for day, p_value in sorted(day_to_p_value.items(), key=lambda x: x[1]):\n",
    "    if day in other_days_rates:\n",
    "        mean = other_days_rates[day].mean()\n",
    "        print(f\"{day} has a p-value of {p_value} and a mean of {mean}\")"
   ]
  },
  {
   "cell_type": "markdown",
   "id": "8d667582",
   "metadata": {},
   "source": [
    "## 2."
   ]
  },
  {
   "cell_type": "markdown",
   "id": "1465bcd7",
   "metadata": {},
   "source": [
    "If the p-value is less than the significance level, it means the null hypothesis is rejected."
   ]
  },
  {
   "cell_type": "code",
   "execution_count": 31,
   "id": "7314b98f",
   "metadata": {},
   "outputs": [],
   "source": [
    "# sort dictionary of days and p-values\n",
    "sorted_days, sorted_p_values = zip(*sorted(day_to_p_value.items(),\n",
    "                                             key=lambda x: x[1]))"
   ]
  },
  {
   "cell_type": "code",
   "execution_count": 37,
   "id": "caaa5ba3",
   "metadata": {},
   "outputs": [
    {
     "data": {
      "image/png": "[encoded data removed]",
      "text/plain": [
       "<Figure size 216x720 with 2 Axes>"
      ]
     },
     "metadata": {
      "needs_background": "light"
     },
     "output_type": "display_data"
    }
   ],
   "source": [
    "# heat map of p-values of other days\n",
    "plt.figure(figsize=(3, 10))\n",
    "sns.heatmap([[p_value] for p_value in sorted_p_values],\n",
    "            cmap='YlGnBu', annot=True, xticklabels=['p-value'],\n",
    "            yticklabels=sorted_days)\n",
    "plt.show()"
   ]
  },
  {
   "cell_type": "markdown",
   "id": "370c3a7d",
   "metadata": {},
   "source": [
    "None of the other days vary significantly (at 0.05 CI) from Friday in tweet engagement."
   ]
  },
  {
   "cell_type": "markdown",
   "id": "ecbea0bf",
   "metadata": {},
   "source": [
    "## 3"
   ]
  },
  {
   "cell_type": "markdown",
   "id": "6a86de20",
   "metadata": {},
   "source": [
    "We can divide our significance level by the counts of experiments to get an adjusted significance level. Experiment count, in this case, is the calculation count of the p-value."
   ]
  },
  {
   "cell_type": "code",
   "execution_count": 54,
   "id": "d8563f6d",
   "metadata": {},
   "outputs": [
    {
     "data": {
      "text/plain": [
       "1.6666666666666667e-06"
      ]
     },
     "metadata": {},
     "output_type": "display_data"
    }
   ],
   "source": [
    "num_planned_experiments = 30000\n",
    "significance_level = .05 / num_planned_experiments\n",
    "display(significance_level)"
   ]
  },
  {
   "cell_type": "markdown",
   "id": "566dee4a",
   "metadata": {},
   "source": [
    "## 4"
   ]
  },
  {
   "cell_type": "code",
   "execution_count": 63,
   "id": "a0073990",
   "metadata": {},
   "outputs": [],
   "source": [
    "for day, p_value in day_to_p_value.items():\n",
    "    if p_value <= significance_level:\n",
    "        print(\"We found a statistically significant result.\")\n",
    "        print(f\"The day was {day}\")\n",
    "        print(f\"The p-value was {p_value}\")\n",
    "        break"
   ]
  },
  {
   "cell_type": "markdown",
   "id": "0af834fd",
   "metadata": {},
   "source": [
    "# Solution Explanation"
   ]
  },
  {
   "cell_type": "code",
   "execution_count": null,
   "id": "b9b87025",
   "metadata": {},
   "outputs": [],
   "source": [
    "*full solution*\n",
    "\n",
    "```\n",
    "friday_rates.mean()\n",
    "for day, p_value in sorted(day_to_p_value.items(), key=lambda x: x[1]):\n",
    "    if day in other_days_rates.columns:\n",
    "        mean = other_days_rates[day].mean()\n",
    "        print(f\"{day} has a p-value of {p_value} and a mean of {mean}\")\n",
    "\n",
    "#Applying the Bonferonni correction\n",
    "significance_level = 0.05 / 6\n",
    "print(f\"Adjusted significance level is {significance_level}\")\n",
    "for day, p_value in sorted(day_to_p_value.items(), key=lambda x: x[1]):\n",
    "    if p_value < significance_level:\n",
    "        mean = other_days_rates[day].mean()\n",
    "        print(f\"{day} has a p-value of {p_value} and a mean of {mean}\")\n",
    "```"
   ]
  }
 ],
 "metadata": {
  "kernelspec": {
   "display_name": "Python 3 (ipykernel)",
   "language": "python",
   "name": "python3"
  },
  "language_info": {
   "codemirror_mode": {
    "name": "ipython",
    "version": 3
   },
   "file_extension": ".py",
   "mimetype": "text/x-python",
   "name": "python",
   "nbconvert_exporter": "python",
   "pygments_lexer": "ipython3",
   "version": "3.8.8"
  },
  "toc": {
   "base_numbering": 1,
   "nav_menu": {},
   "number_sections": true,
   "sideBar": true,
   "skip_h1_title": false,
   "title_cell": "Table of Contents",
   "title_sidebar": "Contents",
   "toc_cell": false,
   "toc_position": {},
   "toc_section_display": true,
   "toc_window_display": false
  },
  "varInspector": {
   "cols": {
    "lenName": 16,
    "lenType": 16,
    "lenVar": 40
   },
   "kernels_config": {
    "python": {
     "delete_cmd_postfix": "",
     "delete_cmd_prefix": "del ",
     "library": "var_list.py",
     "varRefreshCmd": "print(var_dic_list())"
    },
    "r": {
     "delete_cmd_postfix": ") ",
     "delete_cmd_prefix": "rm(",
     "library": "var_list.r",
     "varRefreshCmd": "cat(var_dic_list()) "
    }
   },
   "types_to_exclude": [
    "module",
    "function",
    "builtin_function_or_method",
    "instance",
    "_Feature"
   ],
   "window_display": false
  }
 },
 "nbformat": 4,
 "nbformat_minor": 5
}
