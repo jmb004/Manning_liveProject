{
 "cells": [
  {
   "cell_type": "markdown",
   "id": "f0472d39",
   "metadata": {},
   "source": [
    "# Import Modules"
   ]
  },
  {
   "cell_type": "code",
   "execution_count": null,
   "id": "58772522",
   "metadata": {},
   "outputs": [],
   "source": [
    "# import modules\n",
    "import numpy as np\n",
    "import matplotlib.pyplot as plt\n",
    "import seaborn as sns"
   ]
  },
  {
   "cell_type": "code",
   "execution_count": null,
   "id": "ca03753d",
   "metadata": {},
   "outputs": [],
   "source": [
    "# create a deck of cards with Ace at 11\n",
    "unshuffled_deck= []\n",
    "for i in [2,3,4,5,6,7,8,9,10,10,10,10,11]:\n",
    "    unshuffled_deck = unshuffled_deck + (4 * [i])"
   ]
  },
  {
   "cell_type": "code",
   "execution_count": null,
   "id": "11964ed9",
   "metadata": {},
   "outputs": [],
   "source": [
    "# check deck\n",
    "unshuffled_deck"
   ]
  },
  {
   "cell_type": "markdown",
   "id": "46be412b",
   "metadata": {},
   "source": [
    "# A Simple Baseline Strategy"
   ]
  },
  {
   "cell_type": "code",
   "execution_count": 4,
   "id": "ecc3d4fa",
   "metadata": {},
   "outputs": [],
   "source": [
    "# Assign 0 to the NumPy random seed to make the results\n",
    "np.random.seed(0)"
   ]
  },
  {
   "cell_type": "code",
   "execution_count": 5,
   "id": "4b321eb6",
   "metadata": {},
   "outputs": [],
   "source": [
    "# Create an empty list called “turn\"\n",
    "turn = []"
   ]
  },
  {
   "cell_type": "code",
   "execution_count": null,
   "id": "b472784c",
   "metadata": {},
   "outputs": [],
   "source": [
    "for i in range (100000):\n",
    "    i = 2\n",
    "    shuffled_deck = np.random.permutation(unshuffled_deck)\n",
    "    hand = shuffled_deck[-i:]\n",
    "    if sum(hand) == 22:\n",
    "        hand[np.where(hand == 11)[0][0]] = 1\n",
    "    while sum(hand) < 16:\n",
    "        i = i + 1\n",
    "        hand = np.append(hand, shuffled_deck[-i])\n",
    "        if sum(hand) > 21 and len(np.where(hand == 11)[0]) > 0:\n",
    "            hand[np.where(hand == 11)[0][0]] = 1\n",
    "    turn.append(sum(hand))"
   ]
  },
  {
   "cell_type": "code",
   "execution_count": null,
   "id": "9b09aad9",
   "metadata": {},
   "outputs": [],
   "source": [
    "sns.histplot(turn, discrete=True)"
   ]
  },
  {
   "cell_type": "markdown",
   "id": "f595d6dd",
   "metadata": {},
   "source": [
    "#  Determining the Winning Strategy\n",
    "\n",
    "Create a Python script that simulates different thresholds and let them compete with each other in order to determine the best strategy.\n",
    "\n",
    "In the last milestone, we used 16 as our threshold for when to stop taking additional cards. In this milestone, you will get the reward for your work in the previous milestones and reach the winning strategy by simulating and comparing different approaches."
   ]
  },
  {
   "cell_type": "markdown",
   "id": "68a444af",
   "metadata": {},
   "source": [
    "## Refactor the code in the loop and generate a function called “simulate_game” to improve modularity.\n",
    "\n",
    "Send the shuffled deck to the function instead of the unshuffled deck so that we can use the same deck for each threshold iteration."
   ]
  },
  {
   "cell_type": "code",
   "execution_count": null,
   "id": "a235b163",
   "metadata": {},
   "outputs": [],
   "source": [
    "# Create a function with two arguments:\n",
    "#shuffled_deck: a shuffled array of cards\n",
    "#threshold: a numerical limit that determines when to stop dealing new cards\n",
    "\n",
    "def simulate_game(shuffled_deck, threshold):\n",
    "    \n",
    "    np.random.seed(0) # make the game random\n",
    "    \n",
    "    turn = [] # keep a list of the sum of the hands\n",
    "    \n",
    "    turns = 1 # only one game\n",
    "    \n",
    "    for i in turns:\n",
    "        \n",
    "        i = 2 # number of cards to be drawn\n",
    "\n",
    "        #shuffled_deck = np.random.permutation(unshuffled_deck) # shuffle the deck\n",
    "\n",
    "        hand = shuffled_deck[-i:] # hand is the top two cards [-2:end]\n",
    "\n",
    "        if sum(hand) == 22: # bust threshold\n",
    "\n",
    "            hand[np.where(hand == 11)[0][0]] = 1 # swap 11 with 1\n",
    "\n",
    "        while sum(hand) < threshold: # hit threshold\n",
    "            \n",
    "            i = i + 1 # 2 = 2 + 1 -- the dealer hits the player\n",
    "            \n",
    "            hand = np.append(hand, shuffled_deck[-i]) # the hand is an array of the hand plus the last card in the deck\n",
    "\n",
    "            if sum(hand) > 21 and len(np.where(hand == 11)[0]) > 0: # if the hand is great than 21 and an 11 is present\n",
    "\n",
    "                hand[np.where(hand == 11)[0][0]] = 1 # change the 11 to a 1\n",
    "\n",
    "        turn.append(sum(hand)) # append the hand to the turn\n",
    "    \n",
    "    return hand # The function should return the hand of the player as an array at the end of the dealing."
   ]
  },
  {
   "cell_type": "markdown",
   "id": "cfee407f",
   "metadata": {},
   "source": [
    "## Test simulate_game"
   ]
  },
  {
   "cell_type": "code",
   "execution_count": null,
   "id": "8569e5ca",
   "metadata": {},
   "outputs": [],
   "source": [
    "shuffled_deck = np.random.permutation(unshuffled_deck) # shuffle the deck\n",
    "threshold = 17"
   ]
  },
  {
   "cell_type": "code",
   "execution_count": null,
   "id": "85c25f8e",
   "metadata": {},
   "outputs": [],
   "source": [
    "simulate_game(shuffled_deck, threshold)"
   ]
  },
  {
   "cell_type": "markdown",
   "id": "9e014e47",
   "metadata": {},
   "source": [
    "## Let’s imagine two players at the same table, and each of them applies a different strategy with different thresholds. \n",
    "\n",
    "In a standard 21 game, cards are dealt 1 by 1; however, in our simulation, we do not have to follow these rules as long as we get identical results.\n",
    "\n",
    "Consider all possible outcomes of play, including both exceeding 21, one of them exceeding 21, and a tie situation."
   ]
  },
  {
   "cell_type": "code",
   "execution_count": null,
   "id": "97514619",
   "metadata": {},
   "outputs": [],
   "source": [
    "# Define a new function called “duel_play” to simulate this scenario.\n",
    "# It should simulate a play between two players with different thresholds and return the winning player’s threshold.\n",
    "# Use the “simulate_game” function to simulate games for Threshold 1 and Threshold 2 in the “duel_play” function.\n",
    "\n",
    "def duel_play(Threshold1,  Threshold2): # It should have two arguments: Threshold 1 and Threshold 2.\n",
    "    \n",
    "    # In the beginning of the duel_play function , shuffle the deck of 52 and use it for both thresholds. \n",
    "    shuffled_deck = np.random.permutation(unshuffled_deck)\n",
    "    \n",
    "    np.delete(shuffled_deck, [,]) # remove cards from the first simulation/game from the shuffled deck\n",
    "    \n",
    "    # Deal different cards to each simulation. \n",
    "    # For example, if the first simulation dealt with 3 cards, then discard these from the shuffled deck and continue with the remaining list.\n",
    "    Threshold1[arg1] = simulate_game(shuffled_deck, Threshold1) # extract the threshold argument from the simulate_game hand\n",
    "    \n",
    "    Threshold2[arg1] = simulate_game(shuffled_deck, Threshold2) # extract the threshold argument from the simulate_game hand\n",
    "    \n",
    "    #if both exceeding 21: # the hand is exceeding 21 at this threshold\n",
    "    if Threshold1 and Threshold2 > 21:\n",
    "        \n",
    "        winners_threshold = 0 \n",
    "    \n",
    "    #if one of them exceeding 21:\n",
    "    if Threshold1 or Threshold2 > 21:\n",
    "        \n",
    "        #winners_threshold = the threshold of the simulate_play that is less than 21\n",
    "        if Threshold1 < 21:\n",
    "            \n",
    "            winner_threshold = Threshold1 \n",
    "            \n",
    "        winner_threshold = Threshold2\n",
    "    \n",
    "    #if a tie situation:\n",
    "    if Threshold1 == Threshold2:\n",
    "        \n",
    "        winners_threshold = 0\n",
    "\n",
    "    return winners_threshold # return the winning player’s threshold. If there is no winner, return 0."
   ]
  },
  {
   "cell_type": "markdown",
   "id": "7efaae7f",
   "metadata": {},
   "source": [
    "## Test dual_play"
   ]
  },
  {
   "cell_type": "code",
   "execution_count": null,
   "id": "38d8bd48",
   "metadata": {},
   "outputs": [],
   "source": [
    "Threshold1 = 15\n",
    "Threshold2 = 16"
   ]
  },
  {
   "cell_type": "code",
   "execution_count": null,
   "id": "bb4b367f",
   "metadata": {},
   "outputs": [],
   "source": [
    "duel_play(Threshold1, Threshold2)"
   ]
  },
  {
   "cell_type": "markdown",
   "id": "fbc783e5",
   "metadata": {},
   "source": [
    "## Compete different strategies against each other, and in every turn, save the winner to a list.\n",
    "\n",
    "Use different thresholds to compare how one would do against the other in iterations of the game.\n",
    "\n",
    "In this step, you can create 3 nested for loops: one for 10,000 iterations, one for Threshold 1, and one for Threshold 2."
   ]
  },
  {
   "cell_type": "code",
   "execution_count": null,
   "id": "cbb7dffb",
   "metadata": {},
   "outputs": [],
   "source": [
    "# Create an empty list called \"winners\".\n",
    "winners = [] # At the end, the winner list should have a length of 100*10,000 = 1,000,000."
   ]
  },
  {
   "cell_type": "code",
   "execution_count": null,
   "id": "4a073ca6",
   "metadata": {},
   "outputs": [],
   "source": [
    "# Repeat the previous step 10,000 times\n",
    "for time in range(1, 10000):\n",
    "    \n",
    "    thresholds1 = range(10,20)\n",
    "    \n",
    "    thresholds2 = range(10,20)\n",
    "\n",
    "    # At the end, you should get 100 plays.\n",
    "    for threshold in thresholds1: # For a threshold list in the range (10,20) # make a 100 turns\n",
    "    \n",
    "        duel_play(threshold, thresholds2)\n",
    "        \n",
    "            for threshold in thresholds2:\n",
    "                \n",
    "                duel_play(thresholds1, thresholds2)#  run the duel_play function and make every element of the list play against others.\n",
    "    \n",
    "                winners.append()"
   ]
  },
  {
   "cell_type": "code",
   "execution_count": null,
   "id": "f7c6631c",
   "metadata": {},
   "outputs": [],
   "source": [
    "len(winners) # At the end, the winner list should have a length of 100*10,000 = 1,000,000."
   ]
  },
  {
   "cell_type": "markdown",
   "id": "0657d9b5",
   "metadata": {},
   "source": [
    "# Visualize the histogram of the winners list.\n",
    "The winning strategy can be deduced from this graph, which indicates the winning probabilities of different strategies.\n"
   ]
  },
  {
   "cell_type": "code",
   "execution_count": null,
   "id": "760e281f",
   "metadata": {},
   "outputs": [],
   "source": [
    "# See the distribution of winners. \n",
    "sns.histplot(winners, discrete=True)"
   ]
  },
  {
   "cell_type": "markdown",
   "id": "2bbafabb",
   "metadata": {},
   "source": [
    "# Partial Solution"
   ]
  },
  {
   "cell_type": "code",
   "execution_count": null,
   "id": "57646ced",
   "metadata": {},
   "outputs": [],
   "source": [
    "*partial solution*\n",
    "\n",
    "```\n",
    "def simulate_game(shuffled_deck, threshold):\n",
    "    i = 2\n",
    "    hand = shuffled_deck[-i:]\n",
    "    ...\n",
    "    return hand\n",
    "\n",
    "def duel_play(threshold1, threshold2):\n",
    "    shuffled_deck = np.random.permutation(unshuffled_deck)\n",
    "    ...\n",
    "    shuffled_deck = shuffled_deck[:-len(hand1)]\n",
    "    ...\n",
    "    else: return 0\n",
    "\n",
    "winners = []\n",
    "for _ in range (10000):\n",
    "    for threshold1 in range(10,20):\n",
    "        for threshold2 in range(10,20):\n",
    "            ...\n",
    "\n",
    "sns.histplot(winners, discrete=True, stat='probability')"
   ]
  },
  {
   "cell_type": "code",
   "execution_count": null,
   "id": "89eb8572",
   "metadata": {},
   "outputs": [],
   "source": [
    "*partial solution*\n",
    "\n",
    "```\n",
    "# Create a function with two arguments:\n",
    "#shuffled_deck: a shuffled array of cards\n",
    "#threshold: a numerical limit that determines when to stop dealing new cards\n",
    "\n",
    "def simulate_game(shuffled_deck, threshold):\n",
    "   \n",
    "    i = 2 # number of cards to be drawn\n",
    "\n",
    "    #shuffled_deck = np.random.permutation(unshuffled_deck) # shuffle the deck\n",
    "\n",
    "    hand = shuffled_deck[-i:] # hand is the top two cards [-2:end]\n",
    "\n",
    "    if sum(hand) == 22: # bust threshold\n",
    "\n",
    "        hand[np.where(hand == 11)[0][0]] = 1 # swap 11 with 1\n",
    "\n",
    "    while sum(hand) < threshold: # hit threshold\n",
    "            \n",
    "        i = i + 1 # 2 = 2 + 1 -- the dealer hits the player\n",
    "            \n",
    "        hand = np.append(hand, shuffled_deck[-i]) # the hand is an array of the hand plus the last card in the deck\n",
    "\n",
    "        if sum(hand) > 21 and len(np.where(hand == 11)[0]) > 0: # if the hand is great than 21 and an 11 is present\n",
    "\n",
    "            hand[np.where(hand == 11)[0][0]] = 1 # change the 11 to a 1\n",
    "\n",
    "    turn.append(sum(hand)) # append the hand to the turn\n",
    "    \n",
    "    return hand # The function should return the hand of the player as an array at the end of the dealing.\n",
    "\n",
    "\n",
    "def duel_play(Threshold1,  Threshold2): # It should have two arguments: Threshold 1 and Threshold 2.\n",
    "    \n",
    "    # In the beginning of the duel_play function , shuffle the deck of 52 and use it for both thresholds. \n",
    "    shuffled_deck = np.random.permutation(unshuffled_deck)\n",
    "    \n",
    "    shuffled_deck = shuffled_deck[:-len(hand1)] # remove cards from the first simulation/game from the shuffled deck\n",
    "    \n",
    "    # Deal different cards to each simulation. \n",
    "    # For example, if the first simulation dealt with 3 cards, then discard these from the shuffled deck and continue with the remaining list.\n",
    "    Threshold1[arg1] = simulate_game(shuffled_deck, Threshold1) # extract the threshold argument from the simulate_game hand\n",
    "    \n",
    "    Threshold2[arg1] = simulate_game(shuffled_deck, Threshold2) # extract the threshold argument from the simulate_game hand\n",
    "    \n",
    "    #if both exceeding 21: # the hand is exceeding 21 at this threshold\n",
    "    if Threshold1 and Threshold2 > 21:\n",
    "        \n",
    "        winners_threshold = 0 \n",
    "    \n",
    "    #if one of them exceeding 21:\n",
    "    if Threshold1 or Threshold2 > 21:\n",
    "        \n",
    "        #winners_threshold = the threshold of the simulate_play that is less than 21\n",
    "        if Threshold1 < 21:\n",
    "            \n",
    "            winner_threshold = Threshold1 \n",
    "            \n",
    "        winner_threshold = Threshold2\n",
    "    \n",
    "    #if a tie situation:\n",
    "    if Threshold1 == Threshold2:\n",
    "        \n",
    "        winners_threshold = 0\n",
    "\n",
    "    else: #If there is no winner,\n",
    "        \n",
    "        return 0  # return 0.\n",
    "    \n",
    "    return winners_threshold # return the winning player’s threshold. \n",
    "\n",
    "# Create an empty list called \"winners\".\n",
    "winners = [] # At the end, the winner list should have a length of 100*10,000 = 1,000,000.\n",
    "\n",
    "# Repeat the previous step 10,000 times\n",
    "for time in range(10000):\n",
    "\n",
    "    # At the end, you should get 100 plays.\n",
    "    for threshold1 in range(10,20): # For a threshold list in the range (10,20) # make a 100 turns\n",
    "    \n",
    "        duel_play(threshold, thresholds2)\n",
    "        \n",
    "            for threshold2 in range(10,20):\n",
    "                \n",
    "                duel_play(thresholds1, thresholds2)#  run the duel_play function and make every element of the list play against others.\n",
    "    \n",
    "                winners.append()\n",
    "\n",
    "# visualize the winners distribution\n",
    "sns.histplot(winners, discrete=True, stat='probability')"
   ]
  },
  {
   "cell_type": "markdown",
   "id": "b57ba920",
   "metadata": {},
   "source": [
    "# Full Solution"
   ]
  },
  {
   "cell_type": "code",
   "execution_count": null,
   "id": "8c8e7e3e",
   "metadata": {},
   "outputs": [],
   "source": [
    "*full solution*\n",
    "\n",
    "```\n",
    "def simulate_game(shuffled_deck, threshold):\n",
    "    i = 2\n",
    "    hand = shuffled_deck[-i:]\n",
    "    if sum(hand) == 22:\n",
    "        hand[np.where(hand == 11)[0][0]] = 1\n",
    "    while sum(hand) < threshold:\n",
    "        i = i + 1\n",
    "        hand = np.append(hand, shuffled_deck[-i])\n",
    "        if sum(hand) > 21 and len(np.where(hand == 11)[0]) > 0:\n",
    "            hand[np.where(hand == 11)[0][0]] = 1\n",
    "    return hand\n",
    "\n",
    "def duel_play(threshold1, threshold2):\n",
    "    shuffled_deck = np.random.permutation(unshuffled_deck)\n",
    "    hand1 = simulate_game(shuffled_deck, threshold1)\n",
    "    shuffled_deck = shuffled_deck[:-len(hand1)]\n",
    "    hand2 = simulate_game(shuffled_deck, threshold2)\n",
    "    if 21 >= sum(hand1) > sum(hand2):\n",
    "        return threshold1\n",
    "    elif 21 >= sum(hand2) > sum(hand1):\n",
    "        return threshold2\n",
    "    elif sum(hand1) > 21 >= sum(hand2):\n",
    "        return threshold2\n",
    "    elif sum(hand2) > 21 >= sum(hand1):\n",
    "        return threshold1\n",
    "    else: return 0\n",
    "\n",
    "winners = []\n",
    "for _ in range (10000):\n",
    "    for threshold1 in range(10,20):\n",
    "        for threshold2 in range(10,20):\n",
    "            winner = duel_play(threshold1,threshold2)\n",
    "            winners.append(winner)\n",
    "\n",
    "sns.histplot\n",
    "```"
   ]
  }
 ],
 "metadata": {
  "kernelspec": {
   "display_name": "Python 3 (ipykernel)",
   "language": "python",
   "name": "python3"
  },
  "language_info": {
   "codemirror_mode": {
    "name": "ipython",
    "version": 3
   },
   "file_extension": ".py",
   "mimetype": "text/x-python",
   "name": "python",
   "nbconvert_exporter": "python",
   "pygments_lexer": "ipython3",
   "version": "3.8.8"
  },
  "toc": {
   "base_numbering": 1,
   "nav_menu": {},
   "number_sections": true,
   "sideBar": true,
   "skip_h1_title": false,
   "title_cell": "Table of Contents",
   "title_sidebar": "Contents",
   "toc_cell": false,
   "toc_position": {},
   "toc_section_display": true,
   "toc_window_display": false
  },
  "varInspector": {
   "cols": {
    "lenName": 16,
    "lenType": 16,
    "lenVar": 40
   },
   "kernels_config": {
    "python": {
     "delete_cmd_postfix": "",
     "delete_cmd_prefix": "del ",
     "library": "var_list.py",
     "varRefreshCmd": "print(var_dic_list())"
    },
    "r": {
     "delete_cmd_postfix": ") ",
     "delete_cmd_prefix": "rm(",
     "library": "var_list.r",
     "varRefreshCmd": "cat(var_dic_list()) "
    }
   },
   "types_to_exclude": [
    "module",
    "function",
    "builtin_function_or_method",
    "instance",
    "_Feature"
   ],
   "window_display": false
  }
 },
 "nbformat": 4,
 "nbformat_minor": 5
}
