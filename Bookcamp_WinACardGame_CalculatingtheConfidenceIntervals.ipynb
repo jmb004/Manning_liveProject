{
 "cells": [
  {
   "cell_type": "markdown",
   "id": "f0472d39",
   "metadata": {},
   "source": [
    "# Import Modules"
   ]
  },
  {
   "cell_type": "code",
   "execution_count": null,
   "id": "58772522",
   "metadata": {},
   "outputs": [],
   "source": [
    "# import modules\n",
    "import numpy as np\n",
    "import matplotlib.pyplot as plt\n",
    "import seaborn as sns\n",
    "import scipy.stats as st"
   ]
  },
  {
   "cell_type": "code",
   "execution_count": null,
   "id": "ca03753d",
   "metadata": {},
   "outputs": [],
   "source": [
    "# create a deck of cards with Ace at 11\n",
    "unshuffled_deck= []\n",
    "for i in [2,3,4,5,6,7,8,9,10,10,10,10,11]:\n",
    "    unshuffled_deck = unshuffled_deck + (4 * [i])"
   ]
  },
  {
   "cell_type": "code",
   "execution_count": null,
   "id": "11964ed9",
   "metadata": {},
   "outputs": [],
   "source": [
    "# check deck\n",
    "unshuffled_deck"
   ]
  },
  {
   "cell_type": "markdown",
   "id": "46be412b",
   "metadata": {},
   "source": [
    "# A Simple Baseline Strategy"
   ]
  },
  {
   "cell_type": "code",
   "execution_count": 4,
   "id": "ecc3d4fa",
   "metadata": {},
   "outputs": [],
   "source": [
    "# Assign 0 to the NumPy random seed to make the results\n",
    "np.random.seed(0)"
   ]
  },
  {
   "cell_type": "code",
   "execution_count": 5,
   "id": "4b321eb6",
   "metadata": {},
   "outputs": [],
   "source": [
    "# Create an empty list called “turn\"\n",
    "turn = []"
   ]
  },
  {
   "cell_type": "code",
   "execution_count": null,
   "id": "b472784c",
   "metadata": {},
   "outputs": [],
   "source": [
    "for i in range (100000):\n",
    "    i = 2\n",
    "    shuffled_deck = np.random.permutation(unshuffled_deck)\n",
    "    hand = shuffled_deck[-i:]\n",
    "    if sum(hand) == 22:\n",
    "        hand[np.where(hand == 11)[0][0]] = 1\n",
    "    while sum(hand) < 16:\n",
    "        i = i + 1\n",
    "        hand = np.append(hand, shuffled_deck[-i])\n",
    "        if sum(hand) > 21 and len(np.where(hand == 11)[0]) > 0:\n",
    "            hand[np.where(hand == 11)[0][0]] = 1\n",
    "    turn.append(sum(hand))"
   ]
  },
  {
   "cell_type": "code",
   "execution_count": null,
   "id": "9b09aad9",
   "metadata": {},
   "outputs": [],
   "source": [
    "sns.histplot(turn, discrete=True)"
   ]
  },
  {
   "cell_type": "markdown",
   "id": "f595d6dd",
   "metadata": {},
   "source": [
    "#  Determining the Winning Strategy\n",
    "\n",
    "Create a Python script that simulates different thresholds and let them compete with each other in order to determine the best strategy.\n",
    "\n",
    "In the last milestone, we used 16 as our threshold for when to stop taking additional cards. In this milestone, you will get the reward for your work in the previous milestones and reach the winning strategy by simulating and comparing different approaches."
   ]
  },
  {
   "cell_type": "code",
   "execution_count": null,
   "id": "8c8e7e3e",
   "metadata": {},
   "outputs": [],
   "source": [
    "# Refactor the code in the loop and generate a function called “simulate_game” to improve modularity.\n",
    "# Send the shuffled deck to the function instead of the unshuffled deck so that we can use the same deck for each threshold iteration.\n",
    "def simulate_game(shuffled_deck, threshold):\n",
    "    i = 2\n",
    "    hand = shuffled_deck[-i:]\n",
    "    if sum(hand) == 22:\n",
    "        hand[np.where(hand == 11)[0][0]] = 1\n",
    "    while sum(hand) < threshold:\n",
    "        i = i + 1\n",
    "        hand = np.append(hand, shuffled_deck[-i])\n",
    "        if sum(hand) > 21 and len(np.where(hand == 11)[0]) > 0:\n",
    "            hand[np.where(hand == 11)[0][0]] = 1\n",
    "    return hand\n",
    "\n",
    "# Let’s imagine two players at the same table, and each of them applies a different strategy with different thresholds. \n",
    "# In a standard 21 game, cards are dealt 1 by 1; however, in our simulation, we do not have to follow these rules as long as we get identical results.\n",
    "def duel_play(threshold1, threshold2):\n",
    "    shuffled_deck = np.random.permutation(unshuffled_deck)\n",
    "    hand1 = simulate_game(shuffled_deck, threshold1)\n",
    "    shuffled_deck = shuffled_deck[:-len(hand1)]\n",
    "    hand2 = simulate_game(shuffled_deck, threshold2)\n",
    "    \n",
    "    # Consider all possible outcomes of play, including both exceeding 21, one of them exceeding 21, and a tie situation.\n",
    "    if 21 >= sum(hand1) > sum(hand2):\n",
    "        return threshold1\n",
    "    elif 21 >= sum(hand2) > sum(hand1):\n",
    "        return threshold2\n",
    "    elif sum(hand1) > 21 >= sum(hand2):\n",
    "        return threshold2\n",
    "    elif sum(hand2) > 21 >= sum(hand1):\n",
    "        return threshold1\n",
    "    else: return 0\n",
    "\n",
    "## Compete different strategies against each other, and in every turn, save the winner to a list.\n",
    "winners = []\n",
    "for _ in range (10000): \n",
    "    \n",
    "    # In this step, you can create 3 nested for loops: one for 10,000 iterations, one for Threshold 1, and one for Threshold 2.\n",
    "    for threshold1 in range(10,20):\n",
    "        for threshold2 in range(10,20):\n",
    "            winner = duel_play(threshold1,threshold2)\n",
    "            winners.append(winner)\n",
    "\n",
    "# Visualize the histogram of the winners list.\n",
    "# The winning strategy can be deduced from this graph, which indicates the winning probabilities of different strategies.\n",
    "sns.histplot(winners, discrete=True, stat='probability')"
   ]
  },
  {
   "cell_type": "markdown",
   "id": "76b813e7",
   "metadata": {},
   "source": [
    "# Calculating the Confidence Intervals\n",
    "*Objective*\n",
    "\n",
    "Calculate a list of winning probabilities for a threshold = 15 strategy against opponents with random thresholds and find out the 95% confidence interval.\n",
    "\n",
    "*Importance to project*\n",
    "\n",
    "You will learn to calculate the winning frequency and confidence interval in this milestone."
   ]
  },
  {
   "cell_type": "markdown",
   "id": "6fd01339",
   "metadata": {},
   "source": [
    "# Workflow\n",
    "\n",
    "## 1. Create a list of frequency wins, which contains a 10,000 frequency of win for threshold = 15."
   ]
  },
  {
   "cell_type": "code",
   "execution_count": null,
   "id": "43175c6a",
   "metadata": {},
   "outputs": [],
   "source": [
    "frequency_wins = []"
   ]
  },
  {
   "cell_type": "markdown",
   "id": "e176ffc2",
   "metadata": {},
   "source": [
    "## Using the duel_play function from the previous milestone, simulate the play for threshold = 15 against an opponent, whose strategy is chosen randomly among thresholds of 13, 14, 16, and 17."
   ]
  },
  {
   "cell_type": "code",
   "execution_count": null,
   "id": "3571101b",
   "metadata": {},
   "outputs": [],
   "source": [
    "for threshold in random.choice([13, 14, 16, 17], size=None, replace=False, p=None):\n",
    "    \n",
    "    duel_play(15, threshold)"
   ]
  },
  {
   "cell_type": "markdown",
   "id": "038ea6e9",
   "metadata": {},
   "source": [
    "## Simulate this play 1,000 times, and at the end, calculate the win rate for threshold = 15 for non-tie cases. For example, in a game with 300 wins and 100 tie cases, the win rate would be 300/(1,000-100) = 0.33.\n"
   ]
  },
  {
   "cell_type": "code",
   "execution_count": null,
   "id": "df9f68e7",
   "metadata": {},
   "outputs": [],
   "source": [
    "for turns in range(1000):\n",
    "    \n",
    "    for threshold in random.choice([13, 14, 16, 17], size=None, replace=False, p=None):\n",
    "    \n",
    "        duel_play(15, threshold)\n",
    "    \n",
    "        # when duel_play returns 15 add it to a counter and divide by 1000 subtract the ties \n",
    "        threshold1_wins = 0\n",
    "\n",
    "        if duel_play == 15:\n",
    "\n",
    "            threshold1_wins + 1\n",
    "\n",
    "        elif duel_play == 0:\n",
    "\n",
    "            ties_count + 1\n",
    "\n",
    "        win_rate = threshold1_wins / (1000 - ties_count) "
   ]
  },
  {
   "cell_type": "code",
   "execution_count": null,
   "id": "87fb08b1",
   "metadata": {},
   "outputs": [],
   "source": [
    "# You can create 2 nested for loops: one for 10,000 iterations and one for the average win rate of 1,000 simulations.\n",
    "for plays in range(10000): \n",
    "    \n",
    "    for turns in range(1000):\n",
    "    \n",
    "        for threshold in random.choice([13, 14, 16, 17], size=None, replace=False, p=None):\n",
    "\n",
    "            duel_play(15, threshold)\n",
    "\n",
    "            # when duel_play returns 15 add it to a counter and divide by 1000 subtract the ties \n",
    "            threshold1_wins = 0\n",
    "\n",
    "            if duel_play == 15:\n",
    "\n",
    "                threshold1_wins + 1\n",
    "\n",
    "            elif duel_play == 0:\n",
    "\n",
    "                ties_count + 1\n",
    "\n",
    "            win_rate = threshold1_wins / (1000 - ties_count) \n",
    "\n",
    "            results = win_rate\n",
    "        \n",
    "frequency_wins.append(results)"
   ]
  },
  {
   "cell_type": "markdown",
   "id": "483220b6",
   "metadata": {},
   "source": [
    "# Visualize the histogram of the winners list."
   ]
  },
  {
   "cell_type": "code",
   "execution_count": null,
   "id": "fb31cf28",
   "metadata": {},
   "outputs": [],
   "source": [
    "# Check the distribution of the win probability histogram.\n",
    "sns.histplot(frequency_wins, discrete=True, stat='probability')"
   ]
  },
  {
   "cell_type": "markdown",
   "id": "a8655e58",
   "metadata": {},
   "source": [
    "# Calculate the 95% confidence interval for the frequency_wins list."
   ]
  },
  {
   "cell_type": "code",
   "execution_count": null,
   "id": "609a193e",
   "metadata": {},
   "outputs": [],
   "source": [
    "# You can use the stats.norm.interval function of the SciPy library in order to calculate the confidence interval.\n",
    "#stats.norm.interval(alpha, loc=0, scale=1) Endpoints of the range that contains fraction alpha [0, 1] of the distribution\n",
    "scipy.stats.norm.interval(95, loc=frequency_wins.mean() scale=frequency_wins.std())\n",
    "\n",
    "'''\n",
    "#define given sample data\n",
    "data = frequency_wins\n",
    "\n",
    "#Calculate the sample parameters\n",
    "confidenceLevel = 0.95   # 95% CI given\n",
    "\n",
    "degrees_freedom = len(data)-1  #degree of freedom = sample size-1\n",
    "\n",
    "sampleMean = np.mean(data)    #sample mean\n",
    "\n",
    "sampleStandardError = st.sem(data)  #sample standard error\n",
    "\n",
    "#create 95% confidence interval for the population mean\n",
    "confidenceInterval = st.t.interval(alpha=confidenceLevel, df=degrees_freedom, loc=sampleMean, scale=sampleStandardError)\n",
    "\n",
    "#print the 95% confidence interval for the population mean\n",
    "print('The 95% confidence interval for the population mean :',confidenceInterval)\n",
    "'''"
   ]
  },
  {
   "cell_type": "markdown",
   "id": "2865ac31",
   "metadata": {},
   "source": [
    "## *partial solution*"
   ]
  },
  {
   "cell_type": "code",
   "execution_count": null,
   "id": "b012e504",
   "metadata": {},
   "outputs": [],
   "source": [
    "*partial solution*\n",
    "\n",
    "```\n",
    "from scipy import stats\n",
    "\n",
    "frequency_wins = []\n",
    "for _ in range (10000):\n",
    "    winners = []\n",
    "    for _ in range (1000):\n",
    "        ...\n",
    "    frequency_wins.append( ... )\n",
    "\n",
    "sns.histplot(frequency_wins)\n",
    "\n",
    "stats.norm.interval(0.95, loc= ... , scale= ... )\n",
    "```"
   ]
  },
  {
   "cell_type": "markdown",
   "id": "d35c4d3f",
   "metadata": {},
   "source": [
    "## reattempt from partial solution"
   ]
  },
  {
   "cell_type": "code",
   "execution_count": null,
   "id": "b48d14ac",
   "metadata": {},
   "outputs": [],
   "source": [
    "# You can create 2 nested for loops: one for 10,000 iterations and one for the average win rate of 1,000 simulations.\n",
    "frequency_wins = []\n",
    "\n",
    "for _ in range(10000): # use a dummy variable\n",
    "    \n",
    "    winners = [] # winners of very simulated game. The threshold value (15 or 13,14,16,17).\n",
    "    \n",
    "    for _ in range(1000):\n",
    "    \n",
    "        for threshold in random.choice([13, 14, 16, 17]): # pit 15 against a random choice of other thresholds\n",
    "\n",
    "            duel_play(15, threshold) # play a hand\n",
    "\n",
    "            if duel_play == 15: # if 15 wins the hand\n",
    "\n",
    "                winners.append(15) # add it to the winner list\n",
    "\n",
    "            else:\n",
    "\n",
    "                winners.append(threshold) # append the winning threshold number\n",
    "\n",
    "        # when duel_play returns 15 add it to a counter and divide by 1000 subtract the ties \n",
    "        win_rate = threshold1_wins / (1000 - ties_count) # get a fraction for 15 out of 1000 games\n",
    "\n",
    "        results = win_rate\n",
    "        \n",
    "        frequency_wins.append(results) # make a list of fractions\n",
    "        \n",
    "sns.histplot(frequency_wins)\n",
    "\n",
    "scipy.stats.norm.interval(95, loc=frequency_wins.mean() scale=frequency_wins.std())"
   ]
  },
  {
   "cell_type": "markdown",
   "id": "122e0228",
   "metadata": {},
   "source": [
    "## Full solution"
   ]
  },
  {
   "cell_type": "code",
   "execution_count": null,
   "id": "c833f793",
   "metadata": {},
   "outputs": [],
   "source": [
    "*full solution*\n",
    "\n",
    "```\n",
    "from scipy import stats\n",
    "\n",
    "frequency_wins = []\n",
    "for _ in range (10000):\n",
    "    winners = []\n",
    "    for _ in range (1000):\n",
    "        oppenent = np.random.choice([13, 14, 16, 17])\n",
    "        winner = duel_play(15, oppenent)\n",
    "        winners.append(winner)\n",
    "    frequency_wins.append(winners.count(15)/(1000-winners.count(0)))\n",
    "\n",
    "sns.histplot(frequency_wins)\n",
    "\n",
    "stats.norm.interval(0.95, loc=np.mean(frequency_wins), scale=np.std(frequency_wins))"
   ]
  },
  {
   "cell_type": "markdown",
   "id": "b04e3db8",
   "metadata": {},
   "source": [
    "# Lessons:\n",
    "\n",
    "1. Using dummy variables is a thing in a for-loop. \n",
    "2. The random.choice generator is not a python-generator but will select only one number per method call.\n",
    "3. The winning threshold number can only be 15 or 0 for a tie which I forgot in the dual_play function. There is no need to create an if statement for the condition of 15 or 0 (tie) winning since you are making a list you can just add the threshold value which can only be 15 or 0 because all you want are these two values to calculate the winning rate of threshold 15. I was adding all possible thresholds and not only those needed for this task.\n",
    "4. Probability is not needed in the histogram method call because I'm not sure.\n",
    "5. I used the wrong method call for calculating mean and standard deviation but I got the idea right."
   ]
  },
  {
   "cell_type": "code",
   "execution_count": null,
   "id": "808a8ad9",
   "metadata": {},
   "outputs": [],
   "source": []
  }
 ],
 "metadata": {
  "kernelspec": {
   "display_name": "Python 3 (ipykernel)",
   "language": "python",
   "name": "python3"
  },
  "language_info": {
   "codemirror_mode": {
    "name": "ipython",
    "version": 3
   },
   "file_extension": ".py",
   "mimetype": "text/x-python",
   "name": "python",
   "nbconvert_exporter": "python",
   "pygments_lexer": "ipython3",
   "version": "3.8.8"
  },
  "toc": {
   "base_numbering": 1,
   "nav_menu": {},
   "number_sections": true,
   "sideBar": true,
   "skip_h1_title": false,
   "title_cell": "Table of Contents",
   "title_sidebar": "Contents",
   "toc_cell": false,
   "toc_position": {},
   "toc_section_display": true,
   "toc_window_display": false
  },
  "varInspector": {
   "cols": {
    "lenName": 16,
    "lenType": 16,
    "lenVar": 40
   },
   "kernels_config": {
    "python": {
     "delete_cmd_postfix": "",
     "delete_cmd_prefix": "del ",
     "library": "var_list.py",
     "varRefreshCmd": "print(var_dic_list())"
    },
    "r": {
     "delete_cmd_postfix": ") ",
     "delete_cmd_prefix": "rm(",
     "library": "var_list.r",
     "varRefreshCmd": "cat(var_dic_list()) "
    }
   },
   "types_to_exclude": [
    "module",
    "function",
    "builtin_function_or_method",
    "instance",
    "_Feature"
   ],
   "window_display": false
  }
 },
 "nbformat": 4,
 "nbformat_minor": 5
}
