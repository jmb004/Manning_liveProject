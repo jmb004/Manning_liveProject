{
 "cells": [
  {
   "cell_type": "markdown",
   "id": "faa93a61",
   "metadata": {},
   "source": [
    "# About this liveProject\n",
    "Wisdom of the crowd is an idea that states the importance of collective opinions. This idea relies on the combination of collective views rather than personal opinions, and it is very likely for you to encounter a practical usage of this methodology nowadays. Let’s say you have a dataset that consists of trust ratings given by the users to each other, and you aim to analyze this dataset in order to identify the most trustworthy and the most suspicious users. This case is a decent representation of how collective opinion can provide insights.\n",
    "\n",
    "In this liveProject, you will analyze a network dataset (in other words, a graph dataset), visualize it, generate features, and create user clusters based on these derived features. By the end of the project, you will have experience in analyzing network datasets and some introductory knowledge about clustering.\n",
    "\n",
    "To complete this project, you should prepare the assignments as follows:\n",
    "\n",
    "1. Reading and examining the trust network dataset in Python\n",
    "2. Generating feature columns using network functions as preparation for clustering\n",
    "3. Creating user clusters and interpreting them\n",
    "4. Visualizing the nodes and edges of the network dataset"
   ]
  },
  {
   "cell_type": "markdown",
   "id": "130383f5",
   "metadata": {},
   "source": [
    "# Techniques employed\n",
    "The techniques in this project can be examined in 4 main groups:\n",
    "\n",
    "*Python fundamentals to set up the required analysis environment: loops, lists, and dictionaries*\n",
    "\n",
    "*Python libraries for data operations: pandas*\n",
    "\n",
    "*Python libraries for clustering: Scikit-learn*\n",
    "\n",
    "*Python libraries to analyze and visualize network datasets: NetworkX*"
   ]
  },
  {
   "cell_type": "markdown",
   "id": "73f78a5f",
   "metadata": {},
   "source": [
    "# Project outline\n",
    "This liveProject will be divided into 4 milestones.\n",
    "\n",
    "1. Reading and Analyzing the Dataset\n",
    "\n",
    "2. Generating Network Features\n",
    "\n",
    "3. Creating Clusters\n",
    "\n",
    "4. Visualizing the Network\n",
    "\n",
    "In each milestone, the deliverable will be a Python script that shows the progress of the project."
   ]
  },
  {
   "cell_type": "markdown",
   "id": "8feb46a6",
   "metadata": {},
   "source": [
    "# Dataset\n",
    "Dataset description: <a href=\"https://snap.stanford.edu/data/soc-sign-bitcoin-otc.html\">Bitcoin OTC trust weighted signed network</a>\n",
    "\n",
    "Download link: https://snap.stanford.edu/data/soc-sign-bitcoinotc.csv.gz"
   ]
  },
  {
   "cell_type": "markdown",
   "id": "77227710",
   "metadata": {},
   "source": [
    "# Prerequisites\n",
    "The liveProject is for data practitioners who want to get into network analysis.\n",
    "\n",
    "TOOLS\n",
    "Python (basics)\n",
    "Fundamentals: loops, functions, apply\n",
    "Pandas: Dataframes, basic feature transformations\n",
    "NetworkX: Analyzing network data\n",
    "Scikit-learn\n",
    "Jupyter notebook (basics)\n",
    "Build simple Python scripts.\n",
    "\n",
    "TECHNIQUES\n",
    "Statistics (basics)\n",
    "Basic functions: mean, scaling\n",
    "Clustering\n",
    "K-means"
   ]
  },
  {
   "cell_type": "markdown",
   "id": "ce021887",
   "metadata": {},
   "source": [
    "# Recommended resources\n",
    "These are resources that are directly referenced throughout the liveProject and can directly impact or expand your understanding of the liveProject’s content.\n",
    "\n",
    "Data Science Bookcamp by Leonard Apeltsin\n",
    "\n",
    "The Quick Python Book, Third Edition by Naomi Ceder\n",
    "\n",
    "Pandas in Action by Boris Paskhaver\n",
    "\n",
    "Unsupervised Learning with Python by Vaibhav Verdhan\n",
    "\n",
    "We provide additional resources and tutorials throughout the project. Feel free to use any resources you can find to complete the project. If you run into problems or have questions, refer to the Frequently Asked Questions (FAQs) section."
   ]
  },
  {
   "cell_type": "markdown",
   "id": "88675c90",
   "metadata": {},
   "source": [
    "# Reading and Analyzing the Dataset"
   ]
  },
  {
   "cell_type": "markdown",
   "id": "eeee41c2",
   "metadata": {},
   "source": [
    "##  Objective\n",
    "\n",
    "Download the Bitcoin OTC network dataset, read it, and prepare an exploratory data analysis."
   ]
  },
  {
   "cell_type": "markdown",
   "id": "cd1b928f",
   "metadata": {},
   "source": [
    "## Importance to project\n",
    "\n",
    "This dataset will be our main source in the next milestones, and we will build our features on it."
   ]
  },
  {
   "cell_type": "markdown",
   "id": "fa8ccdfa",
   "metadata": {},
   "source": [
    "##  Workflow"
   ]
  },
  {
   "cell_type": "markdown",
   "id": "863cec23",
   "metadata": {},
   "source": [
    "Import pandas and date-time libraries"
   ]
  },
  {
   "cell_type": "code",
   "execution_count": 23,
   "id": "89709954",
   "metadata": {},
   "outputs": [
    {
     "ename": "ModuleNotFoundError",
     "evalue": "No module named 'timestamp'",
     "output_type": "error",
     "traceback": [
      "\u001b[1;31m---------------------------------------------------------------------------\u001b[0m",
      "\u001b[1;31mModuleNotFoundError\u001b[0m                       Traceback (most recent call last)",
      "\u001b[1;32m~\\AppData\\Local\\Temp/ipykernel_11612/261719979.py\u001b[0m in \u001b[0;36m<module>\u001b[1;34m\u001b[0m\n\u001b[0;32m      2\u001b[0m \u001b[1;32mimport\u001b[0m \u001b[0mdatetime\u001b[0m \u001b[1;32mas\u001b[0m \u001b[0mdt\u001b[0m\u001b[1;33m\u001b[0m\u001b[1;33m\u001b[0m\u001b[0m\n\u001b[0;32m      3\u001b[0m \u001b[1;32mfrom\u001b[0m \u001b[0mdatetime\u001b[0m \u001b[1;32mimport\u001b[0m \u001b[1;33m*\u001b[0m\u001b[1;33m\u001b[0m\u001b[1;33m\u001b[0m\u001b[0m\n\u001b[1;32m----> 4\u001b[1;33m \u001b[1;32mimport\u001b[0m \u001b[0mtimestamp\u001b[0m\u001b[1;33m\u001b[0m\u001b[1;33m\u001b[0m\u001b[0m\n\u001b[0m",
      "\u001b[1;31mModuleNotFoundError\u001b[0m: No module named 'timestamp'"
     ]
    }
   ],
   "source": [
    "import pandas as pd\n",
    "import datetime\n",
    "from datetime import *"
   ]
  },
  {
   "cell_type": "markdown",
   "id": "846dd600",
   "metadata": {},
   "source": [
    "Download the dataset from the Stanford Snap website."
   ]
  },
  {
   "cell_type": "markdown",
   "id": "630dd542",
   "metadata": {},
   "source": [
    "Read the file as a pandas DataFrame and change column names to source, target, rating, and time."
   ]
  },
  {
   "cell_type": "code",
   "execution_count": 12,
   "id": "d6f7abaa",
   "metadata": {},
   "outputs": [],
   "source": [
    "df = pd.read_csv('soc-sign-bitcoinotc.csv', names= [\"source\", \"target\", \"rating\", \"time\"])"
   ]
  },
  {
   "cell_type": "code",
   "execution_count": 38,
   "id": "ddcb4111",
   "metadata": {},
   "outputs": [
    {
     "data": {
      "text/html": [
       "<div>\n",
       "<style scoped>\n",
       "    .dataframe tbody tr th:only-of-type {\n",
       "        vertical-align: middle;\n",
       "    }\n",
       "\n",
       "    .dataframe tbody tr th {\n",
       "        vertical-align: top;\n",
       "    }\n",
       "\n",
       "    .dataframe thead th {\n",
       "        text-align: right;\n",
       "    }\n",
       "</style>\n",
       "<table border=\"1\" class=\"dataframe\">\n",
       "  <thead>\n",
       "    <tr style=\"text-align: right;\">\n",
       "      <th></th>\n",
       "      <th>source</th>\n",
       "      <th>target</th>\n",
       "      <th>rating</th>\n",
       "      <th>time</th>\n",
       "    </tr>\n",
       "  </thead>\n",
       "  <tbody>\n",
       "    <tr>\n",
       "      <th>0</th>\n",
       "      <td>6</td>\n",
       "      <td>2</td>\n",
       "      <td>4</td>\n",
       "      <td>1.289242e+09</td>\n",
       "    </tr>\n",
       "    <tr>\n",
       "      <th>1</th>\n",
       "      <td>6</td>\n",
       "      <td>5</td>\n",
       "      <td>2</td>\n",
       "      <td>1.289242e+09</td>\n",
       "    </tr>\n",
       "    <tr>\n",
       "      <th>2</th>\n",
       "      <td>1</td>\n",
       "      <td>15</td>\n",
       "      <td>1</td>\n",
       "      <td>1.289243e+09</td>\n",
       "    </tr>\n",
       "    <tr>\n",
       "      <th>3</th>\n",
       "      <td>4</td>\n",
       "      <td>3</td>\n",
       "      <td>7</td>\n",
       "      <td>1.289245e+09</td>\n",
       "    </tr>\n",
       "    <tr>\n",
       "      <th>4</th>\n",
       "      <td>13</td>\n",
       "      <td>16</td>\n",
       "      <td>8</td>\n",
       "      <td>1.289254e+09</td>\n",
       "    </tr>\n",
       "  </tbody>\n",
       "</table>\n",
       "</div>"
      ],
      "text/plain": [
       "   source  target  rating          time\n",
       "0       6       2       4  1.289242e+09\n",
       "1       6       5       2  1.289242e+09\n",
       "2       1      15       1  1.289243e+09\n",
       "3       4       3       7  1.289245e+09\n",
       "4      13      16       8  1.289254e+09"
      ]
     },
     "execution_count": 38,
     "metadata": {},
     "output_type": "execute_result"
    }
   ],
   "source": [
    "df.head()"
   ]
  },
  {
   "cell_type": "markdown",
   "id": "c1817c63",
   "metadata": {},
   "source": [
    "Transform the ‘time’ column into a date-time format. (For transforming, you can use the datetime.fromtimestamp function.)"
   ]
  },
  {
   "cell_type": "code",
   "execution_count": 47,
   "id": "132d505d",
   "metadata": {},
   "outputs": [
    {
     "ename": "AttributeError",
     "evalue": "type object 'datetime.datetime' has no attribute 'datetime'",
     "output_type": "error",
     "traceback": [
      "\u001b[1;31m---------------------------------------------------------------------------\u001b[0m",
      "\u001b[1;31mAttributeError\u001b[0m                            Traceback (most recent call last)",
      "\u001b[1;32m~\\AppData\\Local\\Temp/ipykernel_11612/798881580.py\u001b[0m in \u001b[0;36m<module>\u001b[1;34m\u001b[0m\n\u001b[1;32m----> 1\u001b[1;33m \u001b[0mdf\u001b[0m\u001b[1;33m[\u001b[0m\u001b[1;34m'time'\u001b[0m\u001b[1;33m]\u001b[0m \u001b[1;33m=\u001b[0m \u001b[0mdf\u001b[0m\u001b[1;33m[\u001b[0m\u001b[1;34m'time'\u001b[0m\u001b[1;33m]\u001b[0m\u001b[1;33m.\u001b[0m\u001b[0mapply\u001b[0m\u001b[1;33m(\u001b[0m\u001b[1;32mlambda\u001b[0m \u001b[0mx\u001b[0m\u001b[1;33m:\u001b[0m \u001b[0mdatetime\u001b[0m\u001b[1;33m.\u001b[0m\u001b[0mdatetime\u001b[0m\u001b[1;33m.\u001b[0m\u001b[0mfromtimestamp\u001b[0m\u001b[1;33m(\u001b[0m\u001b[0mx\u001b[0m\u001b[1;33m)\u001b[0m\u001b[1;33m)\u001b[0m\u001b[1;33m\u001b[0m\u001b[1;33m\u001b[0m\u001b[0m\n\u001b[0m",
      "\u001b[1;32m~\\anaconda3\\lib\\site-packages\\pandas\\core\\series.py\u001b[0m in \u001b[0;36mapply\u001b[1;34m(self, func, convert_dtype, args, **kwargs)\u001b[0m\n\u001b[0;32m   4355\u001b[0m         \u001b[0mdtype\u001b[0m\u001b[1;33m:\u001b[0m \u001b[0mfloat64\u001b[0m\u001b[1;33m\u001b[0m\u001b[1;33m\u001b[0m\u001b[0m\n\u001b[0;32m   4356\u001b[0m         \"\"\"\n\u001b[1;32m-> 4357\u001b[1;33m         \u001b[1;32mreturn\u001b[0m \u001b[0mSeriesApply\u001b[0m\u001b[1;33m(\u001b[0m\u001b[0mself\u001b[0m\u001b[1;33m,\u001b[0m \u001b[0mfunc\u001b[0m\u001b[1;33m,\u001b[0m \u001b[0mconvert_dtype\u001b[0m\u001b[1;33m,\u001b[0m \u001b[0margs\u001b[0m\u001b[1;33m,\u001b[0m \u001b[0mkwargs\u001b[0m\u001b[1;33m)\u001b[0m\u001b[1;33m.\u001b[0m\u001b[0mapply\u001b[0m\u001b[1;33m(\u001b[0m\u001b[1;33m)\u001b[0m\u001b[1;33m\u001b[0m\u001b[1;33m\u001b[0m\u001b[0m\n\u001b[0m\u001b[0;32m   4358\u001b[0m \u001b[1;33m\u001b[0m\u001b[0m\n\u001b[0;32m   4359\u001b[0m     def _reduce(\n",
      "\u001b[1;32m~\\anaconda3\\lib\\site-packages\\pandas\\core\\apply.py\u001b[0m in \u001b[0;36mapply\u001b[1;34m(self)\u001b[0m\n\u001b[0;32m   1041\u001b[0m             \u001b[1;32mreturn\u001b[0m \u001b[0mself\u001b[0m\u001b[1;33m.\u001b[0m\u001b[0mapply_str\u001b[0m\u001b[1;33m(\u001b[0m\u001b[1;33m)\u001b[0m\u001b[1;33m\u001b[0m\u001b[1;33m\u001b[0m\u001b[0m\n\u001b[0;32m   1042\u001b[0m \u001b[1;33m\u001b[0m\u001b[0m\n\u001b[1;32m-> 1043\u001b[1;33m         \u001b[1;32mreturn\u001b[0m \u001b[0mself\u001b[0m\u001b[1;33m.\u001b[0m\u001b[0mapply_standard\u001b[0m\u001b[1;33m(\u001b[0m\u001b[1;33m)\u001b[0m\u001b[1;33m\u001b[0m\u001b[1;33m\u001b[0m\u001b[0m\n\u001b[0m\u001b[0;32m   1044\u001b[0m \u001b[1;33m\u001b[0m\u001b[0m\n\u001b[0;32m   1045\u001b[0m     \u001b[1;32mdef\u001b[0m \u001b[0magg\u001b[0m\u001b[1;33m(\u001b[0m\u001b[0mself\u001b[0m\u001b[1;33m)\u001b[0m\u001b[1;33m:\u001b[0m\u001b[1;33m\u001b[0m\u001b[1;33m\u001b[0m\u001b[0m\n",
      "\u001b[1;32m~\\anaconda3\\lib\\site-packages\\pandas\\core\\apply.py\u001b[0m in \u001b[0;36mapply_standard\u001b[1;34m(self)\u001b[0m\n\u001b[0;32m   1097\u001b[0m                 \u001b[1;31m# List[Union[Callable[..., Any], str]]]]]\"; expected\u001b[0m\u001b[1;33m\u001b[0m\u001b[1;33m\u001b[0m\u001b[1;33m\u001b[0m\u001b[0m\n\u001b[0;32m   1098\u001b[0m                 \u001b[1;31m# \"Callable[[Any], Any]\"\u001b[0m\u001b[1;33m\u001b[0m\u001b[1;33m\u001b[0m\u001b[1;33m\u001b[0m\u001b[0m\n\u001b[1;32m-> 1099\u001b[1;33m                 mapped = lib.map_infer(\n\u001b[0m\u001b[0;32m   1100\u001b[0m                     \u001b[0mvalues\u001b[0m\u001b[1;33m,\u001b[0m\u001b[1;33m\u001b[0m\u001b[1;33m\u001b[0m\u001b[0m\n\u001b[0;32m   1101\u001b[0m                     \u001b[0mf\u001b[0m\u001b[1;33m,\u001b[0m  \u001b[1;31m# type: ignore[arg-type]\u001b[0m\u001b[1;33m\u001b[0m\u001b[1;33m\u001b[0m\u001b[0m\n",
      "\u001b[1;32m~\\anaconda3\\lib\\site-packages\\pandas\\_libs\\lib.pyx\u001b[0m in \u001b[0;36mpandas._libs.lib.map_infer\u001b[1;34m()\u001b[0m\n",
      "\u001b[1;32m~\\AppData\\Local\\Temp/ipykernel_11612/798881580.py\u001b[0m in \u001b[0;36m<lambda>\u001b[1;34m(x)\u001b[0m\n\u001b[1;32m----> 1\u001b[1;33m \u001b[0mdf\u001b[0m\u001b[1;33m[\u001b[0m\u001b[1;34m'time'\u001b[0m\u001b[1;33m]\u001b[0m \u001b[1;33m=\u001b[0m \u001b[0mdf\u001b[0m\u001b[1;33m[\u001b[0m\u001b[1;34m'time'\u001b[0m\u001b[1;33m]\u001b[0m\u001b[1;33m.\u001b[0m\u001b[0mapply\u001b[0m\u001b[1;33m(\u001b[0m\u001b[1;32mlambda\u001b[0m \u001b[0mx\u001b[0m\u001b[1;33m:\u001b[0m \u001b[0mdatetime\u001b[0m\u001b[1;33m.\u001b[0m\u001b[0mdatetime\u001b[0m\u001b[1;33m.\u001b[0m\u001b[0mfromtimestamp\u001b[0m\u001b[1;33m(\u001b[0m\u001b[0mx\u001b[0m\u001b[1;33m)\u001b[0m\u001b[1;33m)\u001b[0m\u001b[1;33m\u001b[0m\u001b[1;33m\u001b[0m\u001b[0m\n\u001b[0m",
      "\u001b[1;31mAttributeError\u001b[0m: type object 'datetime.datetime' has no attribute 'datetime'"
     ]
    }
   ],
   "source": [
    "df['time'] = df['time'].apply(lambda x: datetime.datetime.fromtimestamp(x))"
   ]
  },
  {
   "cell_type": "markdown",
   "id": "6a6b37a1",
   "metadata": {},
   "source": [
    "Analyze the dataset using the describe function of pandas."
   ]
  },
  {
   "cell_type": "code",
   "execution_count": 30,
   "id": "8a3b4a45",
   "metadata": {},
   "outputs": [
    {
     "data": {
      "text/html": [
       "<div>\n",
       "<style scoped>\n",
       "    .dataframe tbody tr th:only-of-type {\n",
       "        vertical-align: middle;\n",
       "    }\n",
       "\n",
       "    .dataframe tbody tr th {\n",
       "        vertical-align: top;\n",
       "    }\n",
       "\n",
       "    .dataframe thead th {\n",
       "        text-align: right;\n",
       "    }\n",
       "</style>\n",
       "<table border=\"1\" class=\"dataframe\">\n",
       "  <thead>\n",
       "    <tr style=\"text-align: right;\">\n",
       "      <th></th>\n",
       "      <th>source</th>\n",
       "      <th>target</th>\n",
       "      <th>rating</th>\n",
       "      <th>time</th>\n",
       "    </tr>\n",
       "  </thead>\n",
       "  <tbody>\n",
       "    <tr>\n",
       "      <th>count</th>\n",
       "      <td>35592.000000</td>\n",
       "      <td>35592.000000</td>\n",
       "      <td>35592.000000</td>\n",
       "      <td>3.559200e+04</td>\n",
       "    </tr>\n",
       "    <tr>\n",
       "      <th>mean</th>\n",
       "      <td>2353.847269</td>\n",
       "      <td>2417.478254</td>\n",
       "      <td>1.012025</td>\n",
       "      <td>1.355711e+09</td>\n",
       "    </tr>\n",
       "    <tr>\n",
       "      <th>std</th>\n",
       "      <td>1605.771178</td>\n",
       "      <td>1658.232170</td>\n",
       "      <td>3.562094</td>\n",
       "      <td>3.344739e+07</td>\n",
       "    </tr>\n",
       "    <tr>\n",
       "      <th>min</th>\n",
       "      <td>1.000000</td>\n",
       "      <td>1.000000</td>\n",
       "      <td>-10.000000</td>\n",
       "      <td>1.289242e+09</td>\n",
       "    </tr>\n",
       "    <tr>\n",
       "      <th>25%</th>\n",
       "      <td>988.000000</td>\n",
       "      <td>978.000000</td>\n",
       "      <td>1.000000</td>\n",
       "      <td>1.331243e+09</td>\n",
       "    </tr>\n",
       "    <tr>\n",
       "      <th>50%</th>\n",
       "      <td>2125.000000</td>\n",
       "      <td>2178.000000</td>\n",
       "      <td>1.000000</td>\n",
       "      <td>1.358385e+09</td>\n",
       "    </tr>\n",
       "    <tr>\n",
       "      <th>75%</th>\n",
       "      <td>3722.000000</td>\n",
       "      <td>3804.000000</td>\n",
       "      <td>2.000000</td>\n",
       "      <td>1.376599e+09</td>\n",
       "    </tr>\n",
       "    <tr>\n",
       "      <th>max</th>\n",
       "      <td>6000.000000</td>\n",
       "      <td>6005.000000</td>\n",
       "      <td>10.000000</td>\n",
       "      <td>1.453684e+09</td>\n",
       "    </tr>\n",
       "  </tbody>\n",
       "</table>\n",
       "</div>"
      ],
      "text/plain": [
       "             source        target        rating          time\n",
       "count  35592.000000  35592.000000  35592.000000  3.559200e+04\n",
       "mean    2353.847269   2417.478254      1.012025  1.355711e+09\n",
       "std     1605.771178   1658.232170      3.562094  3.344739e+07\n",
       "min        1.000000      1.000000    -10.000000  1.289242e+09\n",
       "25%      988.000000    978.000000      1.000000  1.331243e+09\n",
       "50%     2125.000000   2178.000000      1.000000  1.358385e+09\n",
       "75%     3722.000000   3804.000000      2.000000  1.376599e+09\n",
       "max     6000.000000   6005.000000     10.000000  1.453684e+09"
      ]
     },
     "execution_count": 30,
     "metadata": {},
     "output_type": "execute_result"
    }
   ],
   "source": [
    "df.describe()"
   ]
  },
  {
   "cell_type": "markdown",
   "id": "53e80ef6",
   "metadata": {},
   "source": [
    "Aggregate the ‘time’ column by weeks and plot the total row counts as a time series graph."
   ]
  },
  {
   "cell_type": "markdown",
   "id": "4ac22563",
   "metadata": {},
   "source": [
    "*You can use the resample function of pandas in order to aggregate a date-time column.*"
   ]
  },
  {
   "cell_type": "code",
   "execution_count": 41,
   "id": "6f3eaa84",
   "metadata": {},
   "outputs": [
    {
     "ename": "TypeError",
     "evalue": "resample() missing 1 required positional argument: 'rule'",
     "output_type": "error",
     "traceback": [
      "\u001b[1;31m---------------------------------------------------------------------------\u001b[0m",
      "\u001b[1;31mTypeError\u001b[0m                                 Traceback (most recent call last)",
      "\u001b[1;32m~\\AppData\\Local\\Temp/ipykernel_11612/462757304.py\u001b[0m in \u001b[0;36m<module>\u001b[1;34m\u001b[0m\n\u001b[1;32m----> 1\u001b[1;33m \u001b[0mdf\u001b[0m\u001b[1;33m.\u001b[0m\u001b[0mtime\u001b[0m\u001b[1;33m.\u001b[0m\u001b[0mresample\u001b[0m\u001b[1;33m(\u001b[0m\u001b[1;33m)\u001b[0m\u001b[1;33m\u001b[0m\u001b[1;33m\u001b[0m\u001b[0m\n\u001b[0m",
      "\u001b[1;31mTypeError\u001b[0m: resample() missing 1 required positional argument: 'rule'"
     ]
    }
   ],
   "source": [
    "df.time.resample(rule=)"
   ]
  },
  {
   "cell_type": "code",
   "execution_count": null,
   "id": "7a8f2de4",
   "metadata": {},
   "outputs": [],
   "source": []
  },
  {
   "cell_type": "code",
   "execution_count": null,
   "id": "a84000cf",
   "metadata": {},
   "outputs": [],
   "source": [
    "df.plot()"
   ]
  },
  {
   "cell_type": "markdown",
   "id": "aa101c75",
   "metadata": {},
   "source": [
    "Aggregate the ‘time’ column by weeks and plot the average ratings as a time series graph."
   ]
  },
  {
   "cell_type": "code",
   "execution_count": null,
   "id": "46de768e",
   "metadata": {},
   "outputs": [],
   "source": [
    "df.time.resample(rule=)"
   ]
  },
  {
   "cell_type": "code",
   "execution_count": null,
   "id": "239229ec",
   "metadata": {},
   "outputs": [],
   "source": [
    "df.plot()"
   ]
  },
  {
   "cell_type": "markdown",
   "id": "5a89c510",
   "metadata": {},
   "source": [
    "Plot the histogram of ratings."
   ]
  },
  {
   "cell_type": "code",
   "execution_count": 52,
   "id": "5b9a0307",
   "metadata": {},
   "outputs": [
    {
     "data": {
      "text/plain": [
       "<AxesSubplot:>"
      ]
     },
     "execution_count": 52,
     "metadata": {},
     "output_type": "execute_result"
    },
    {
     "data": {
      "image/png": "[encoded data removed]",
      "text/plain": [
       "<Figure size 432x288 with 1 Axes>"
      ]
     },
     "metadata": {
      "needs_background": "light"
     },
     "output_type": "display_data"
    }
   ],
   "source": [
    "df.rating.plot.hist()"
   ]
  },
  {
   "cell_type": "markdown",
   "id": "dbf456c1",
   "metadata": {},
   "source": [
    "Plot the histogram of average ratings grouped by targeted users."
   ]
  },
  {
   "cell_type": "code",
   "execution_count": 54,
   "id": "b2eadd83",
   "metadata": {},
   "outputs": [
    {
     "data": {
      "text/plain": [
       "<AxesSubplot:>"
      ]
     },
     "execution_count": 54,
     "metadata": {},
     "output_type": "execute_result"
    },
    {
     "data": {
      "image/png": "[encoded data removed]",
      "text/plain": [
       "<Figure size 432x288 with 1 Axes>"
      ]
     },
     "metadata": {
      "needs_background": "light"
     },
     "output_type": "display_data"
    }
   ],
   "source": [
    "df.groupby(by=df.target).mean()[\"rating\"].hist()"
   ]
  },
  {
   "cell_type": "markdown",
   "id": "07a79994",
   "metadata": {},
   "source": [
    "## Full Solution"
   ]
  },
  {
   "cell_type": "code",
   "execution_count": 48,
   "id": "dd554b8f",
   "metadata": {},
   "outputs": [
    {
     "ename": "SyntaxError",
     "evalue": "invalid syntax (Temp/ipykernel_11612/1325545361.py, line 4)",
     "output_type": "error",
     "traceback": [
      "\u001b[1;36m  File \u001b[1;32m\"C:\\Users\\Joe\\AppData\\Local\\Temp/ipykernel_11612/1325545361.py\"\u001b[1;36m, line \u001b[1;32m4\u001b[0m\n\u001b[1;33m    ```\u001b[0m\n\u001b[1;37m    ^\u001b[0m\n\u001b[1;31mSyntaxError\u001b[0m\u001b[1;31m:\u001b[0m invalid syntax\n"
     ]
    }
   ],
   "source": [
    "# Solution Explanation\n",
    "\n",
    "\n",
    "```\n",
    "import pandas as pd\n",
    "import datetime\n",
    "\n",
    "pd.set_option('display.float_format', lambda x: '%.3f' % x)\n",
    "\n",
    "data = pd.read_csv('your_path/soc-sign-bitcoinotc.csv', names=['source', 'target', 'rating', 'time'])\n",
    "\n",
    "data['time'] = data['time'].apply(lambda x: datetime.datetime.fromtimestamp(x))\n",
    "\n",
    "#Table Description\n",
    "data.describe()\n",
    "\n",
    "# Historical analysis\n",
    "data.resample('1W', on='time')['time'].count().plot()\n",
    "data.resample('1W', on='time')['rating'].mean().plot()\n",
    "\n",
    "#Histogram of ratings\n",
    "data['rating'].hist(bins=21)\n",
    "\n",
    "#Histogram of average ratings\n",
    "data.groupby('target').mean()['rating'].hist()"
   ]
  },
  {
   "cell_type": "code",
   "execution_count": null,
   "id": "588ac104",
   "metadata": {},
   "outputs": [],
   "source": []
  }
 ],
 "metadata": {
  "kernelspec": {
   "display_name": "Python 3 (ipykernel)",
   "language": "python",
   "name": "python3"
  },
  "language_info": {
   "codemirror_mode": {
    "name": "ipython",
    "version": 3
   },
   "file_extension": ".py",
   "mimetype": "text/x-python",
   "name": "python",
   "nbconvert_exporter": "python",
   "pygments_lexer": "ipython3",
   "version": "3.8.8"
  },
  "toc": {
   "base_numbering": 1,
   "nav_menu": {},
   "number_sections": true,
   "sideBar": true,
   "skip_h1_title": false,
   "title_cell": "Table of Contents",
   "title_sidebar": "Contents",
   "toc_cell": false,
   "toc_position": {},
   "toc_section_display": true,
   "toc_window_display": false
  },
  "varInspector": {
   "cols": {
    "lenName": 16,
    "lenType": 16,
    "lenVar": 40
   },
   "kernels_config": {
    "python": {
     "delete_cmd_postfix": "",
     "delete_cmd_prefix": "del ",
     "library": "var_list.py",
     "varRefreshCmd": "print(var_dic_list())"
    },
    "r": {
     "delete_cmd_postfix": ") ",
     "delete_cmd_prefix": "rm(",
     "library": "var_list.r",
     "varRefreshCmd": "cat(var_dic_list()) "
    }
   },
   "types_to_exclude": [
    "module",
    "function",
    "builtin_function_or_method",
    "instance",
    "_Feature"
   ],
   "window_display": false
  }
 },
 "nbformat": 4,
 "nbformat_minor": 5
}
