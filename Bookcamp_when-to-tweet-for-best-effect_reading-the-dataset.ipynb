{
 "cells": [
  {
   "cell_type": "markdown",
   "id": "a3316405",
   "metadata": {},
   "source": [
    "# Import pandas and NumPy libraries."
   ]
  },
  {
   "cell_type": "code",
   "execution_count": 3,
   "id": "c11d4474",
   "metadata": {},
   "outputs": [],
   "source": [
    "import pandas as pd\n",
    "import numpy as np"
   ]
  },
  {
   "cell_type": "markdown",
   "id": "03e63e6d",
   "metadata": {},
   "source": [
    "# Read the tweet_engagements.csv file as pandas DataFrame."
   ]
  },
  {
   "cell_type": "code",
   "execution_count": 4,
   "id": "b528e9de",
   "metadata": {},
   "outputs": [],
   "source": [
    "tweets = pd.read_csv(\"tweet_engagements.csv\")"
   ]
  },
  {
   "cell_type": "markdown",
   "id": "8466bf35",
   "metadata": {},
   "source": [
    "# Explore the dataset using pandas functions."
   ]
  },
  {
   "cell_type": "code",
   "execution_count": 5,
   "id": "343a48d3",
   "metadata": {},
   "outputs": [
    {
     "data": {
      "text/html": [
       "<div>\n",
       "<style scoped>\n",
       "    .dataframe tbody tr th:only-of-type {\n",
       "        vertical-align: middle;\n",
       "    }\n",
       "\n",
       "    .dataframe tbody tr th {\n",
       "        vertical-align: top;\n",
       "    }\n",
       "\n",
       "    .dataframe thead th {\n",
       "        text-align: right;\n",
       "    }\n",
       "</style>\n",
       "<table border=\"1\" class=\"dataframe\">\n",
       "  <thead>\n",
       "    <tr style=\"text-align: right;\">\n",
       "      <th></th>\n",
       "      <th>Date</th>\n",
       "      <th>Impression</th>\n",
       "      <th>Engagement</th>\n",
       "    </tr>\n",
       "  </thead>\n",
       "  <tbody>\n",
       "    <tr>\n",
       "      <th>0</th>\n",
       "      <td>1.11.2020</td>\n",
       "      <td>506</td>\n",
       "      <td>106</td>\n",
       "    </tr>\n",
       "    <tr>\n",
       "      <th>1</th>\n",
       "      <td>2.11.2020</td>\n",
       "      <td>331</td>\n",
       "      <td>50</td>\n",
       "    </tr>\n",
       "    <tr>\n",
       "      <th>2</th>\n",
       "      <td>3.11.2020</td>\n",
       "      <td>377</td>\n",
       "      <td>86</td>\n",
       "    </tr>\n",
       "    <tr>\n",
       "      <th>3</th>\n",
       "      <td>4.11.2020</td>\n",
       "      <td>333</td>\n",
       "      <td>108</td>\n",
       "    </tr>\n",
       "    <tr>\n",
       "      <th>4</th>\n",
       "      <td>5.11.2020</td>\n",
       "      <td>558</td>\n",
       "      <td>31</td>\n",
       "    </tr>\n",
       "  </tbody>\n",
       "</table>\n",
       "</div>"
      ],
      "text/plain": [
       "        Date  Impression  Engagement\n",
       "0  1.11.2020         506         106\n",
       "1  2.11.2020         331          50\n",
       "2  3.11.2020         377          86\n",
       "3  4.11.2020         333         108\n",
       "4  5.11.2020         558          31"
      ]
     },
     "execution_count": 5,
     "metadata": {},
     "output_type": "execute_result"
    }
   ],
   "source": [
    "tweets.head()"
   ]
  },
  {
   "cell_type": "code",
   "execution_count": 6,
   "id": "d94d22f0",
   "metadata": {},
   "outputs": [
    {
     "data": {
      "text/html": [
       "<div>\n",
       "<style scoped>\n",
       "    .dataframe tbody tr th:only-of-type {\n",
       "        vertical-align: middle;\n",
       "    }\n",
       "\n",
       "    .dataframe tbody tr th {\n",
       "        vertical-align: top;\n",
       "    }\n",
       "\n",
       "    .dataframe thead th {\n",
       "        text-align: right;\n",
       "    }\n",
       "</style>\n",
       "<table border=\"1\" class=\"dataframe\">\n",
       "  <thead>\n",
       "    <tr style=\"text-align: right;\">\n",
       "      <th></th>\n",
       "      <th>Date</th>\n",
       "      <th>Impression</th>\n",
       "      <th>Engagement</th>\n",
       "    </tr>\n",
       "  </thead>\n",
       "  <tbody>\n",
       "    <tr>\n",
       "      <th>117</th>\n",
       "      <td>26.04.2021</td>\n",
       "      <td>319</td>\n",
       "      <td>26</td>\n",
       "    </tr>\n",
       "    <tr>\n",
       "      <th>118</th>\n",
       "      <td>27.04.2021</td>\n",
       "      <td>397</td>\n",
       "      <td>119</td>\n",
       "    </tr>\n",
       "    <tr>\n",
       "      <th>119</th>\n",
       "      <td>28.04.2021</td>\n",
       "      <td>531</td>\n",
       "      <td>124</td>\n",
       "    </tr>\n",
       "    <tr>\n",
       "      <th>120</th>\n",
       "      <td>29.04.2021</td>\n",
       "      <td>150</td>\n",
       "      <td>28</td>\n",
       "    </tr>\n",
       "    <tr>\n",
       "      <th>121</th>\n",
       "      <td>30.04.2021</td>\n",
       "      <td>253</td>\n",
       "      <td>40</td>\n",
       "    </tr>\n",
       "  </tbody>\n",
       "</table>\n",
       "</div>"
      ],
      "text/plain": [
       "           Date  Impression  Engagement\n",
       "117  26.04.2021         319          26\n",
       "118  27.04.2021         397         119\n",
       "119  28.04.2021         531         124\n",
       "120  29.04.2021         150          28\n",
       "121  30.04.2021         253          40"
      ]
     },
     "execution_count": 6,
     "metadata": {},
     "output_type": "execute_result"
    }
   ],
   "source": [
    "tweets.tail()"
   ]
  },
  {
   "cell_type": "code",
   "execution_count": 7,
   "id": "13a0fdf5",
   "metadata": {},
   "outputs": [
    {
     "name": "stdout",
     "output_type": "stream",
     "text": [
      "<class 'pandas.core.frame.DataFrame'>\n",
      "RangeIndex: 122 entries, 0 to 121\n",
      "Data columns (total 3 columns):\n",
      " #   Column      Non-Null Count  Dtype \n",
      "---  ------      --------------  ----- \n",
      " 0   Date        122 non-null    object\n",
      " 1   Impression  122 non-null    int64 \n",
      " 2   Engagement  122 non-null    int64 \n",
      "dtypes: int64(2), object(1)\n",
      "memory usage: 3.0+ KB\n"
     ]
    }
   ],
   "source": [
    "tweets.info()"
   ]
  },
  {
   "cell_type": "code",
   "execution_count": 8,
   "id": "836ae6e8",
   "metadata": {},
   "outputs": [
    {
     "data": {
      "text/html": [
       "<div>\n",
       "<style scoped>\n",
       "    .dataframe tbody tr th:only-of-type {\n",
       "        vertical-align: middle;\n",
       "    }\n",
       "\n",
       "    .dataframe tbody tr th {\n",
       "        vertical-align: top;\n",
       "    }\n",
       "\n",
       "    .dataframe thead th {\n",
       "        text-align: right;\n",
       "    }\n",
       "</style>\n",
       "<table border=\"1\" class=\"dataframe\">\n",
       "  <thead>\n",
       "    <tr style=\"text-align: right;\">\n",
       "      <th></th>\n",
       "      <th>Impression</th>\n",
       "      <th>Engagement</th>\n",
       "    </tr>\n",
       "  </thead>\n",
       "  <tbody>\n",
       "    <tr>\n",
       "      <th>count</th>\n",
       "      <td>122.000000</td>\n",
       "      <td>122.000000</td>\n",
       "    </tr>\n",
       "    <tr>\n",
       "      <th>mean</th>\n",
       "      <td>358.049180</td>\n",
       "      <td>53.860656</td>\n",
       "    </tr>\n",
       "    <tr>\n",
       "      <th>std</th>\n",
       "      <td>147.129552</td>\n",
       "      <td>37.894659</td>\n",
       "    </tr>\n",
       "    <tr>\n",
       "      <th>min</th>\n",
       "      <td>111.000000</td>\n",
       "      <td>7.000000</td>\n",
       "    </tr>\n",
       "    <tr>\n",
       "      <th>25%</th>\n",
       "      <td>228.000000</td>\n",
       "      <td>25.250000</td>\n",
       "    </tr>\n",
       "    <tr>\n",
       "      <th>50%</th>\n",
       "      <td>360.000000</td>\n",
       "      <td>44.000000</td>\n",
       "    </tr>\n",
       "    <tr>\n",
       "      <th>75%</th>\n",
       "      <td>478.750000</td>\n",
       "      <td>72.000000</td>\n",
       "    </tr>\n",
       "    <tr>\n",
       "      <th>max</th>\n",
       "      <td>619.000000</td>\n",
       "      <td>187.000000</td>\n",
       "    </tr>\n",
       "  </tbody>\n",
       "</table>\n",
       "</div>"
      ],
      "text/plain": [
       "       Impression  Engagement\n",
       "count  122.000000  122.000000\n",
       "mean   358.049180   53.860656\n",
       "std    147.129552   37.894659\n",
       "min    111.000000    7.000000\n",
       "25%    228.000000   25.250000\n",
       "50%    360.000000   44.000000\n",
       "75%    478.750000   72.000000\n",
       "max    619.000000  187.000000"
      ]
     },
     "execution_count": 8,
     "metadata": {},
     "output_type": "execute_result"
    }
   ],
   "source": [
    "tweets.describe()"
   ]
  },
  {
   "cell_type": "code",
   "execution_count": 11,
   "id": "6eac180d",
   "metadata": {},
   "outputs": [
    {
     "data": {
      "text/html": [
       "<div>\n",
       "<style scoped>\n",
       "    .dataframe tbody tr th:only-of-type {\n",
       "        vertical-align: middle;\n",
       "    }\n",
       "\n",
       "    .dataframe tbody tr th {\n",
       "        vertical-align: top;\n",
       "    }\n",
       "\n",
       "    .dataframe thead th {\n",
       "        text-align: right;\n",
       "    }\n",
       "</style>\n",
       "<table border=\"1\" class=\"dataframe\">\n",
       "  <thead>\n",
       "    <tr style=\"text-align: right;\">\n",
       "      <th></th>\n",
       "      <th>Date</th>\n",
       "      <th>Impression</th>\n",
       "      <th>Engagement</th>\n",
       "    </tr>\n",
       "  </thead>\n",
       "  <tbody>\n",
       "  </tbody>\n",
       "</table>\n",
       "</div>"
      ],
      "text/plain": [
       "Empty DataFrame\n",
       "Columns: [Date, Impression, Engagement]\n",
       "Index: []"
      ]
     },
     "execution_count": 11,
     "metadata": {},
     "output_type": "execute_result"
    }
   ],
   "source": [
    "tweets[tweets.duplicated() == True]"
   ]
  },
  {
   "cell_type": "code",
   "execution_count": 19,
   "id": "3ca7578e",
   "metadata": {},
   "outputs": [
    {
     "data": {
      "text/plain": [
       "1.11.2020     1\n",
       "31.03.2021    1\n",
       "29.03.2021    1\n",
       "28.03.2021    1\n",
       "27.03.2021    1\n",
       "Name: Date, dtype: int64"
      ]
     },
     "metadata": {},
     "output_type": "display_data"
    },
    {
     "data": {
      "text/plain": [
       "360    3\n",
       "112    2\n",
       "196    2\n",
       "582    2\n",
       "124    2\n",
       "Name: Impression, dtype: int64"
      ]
     },
     "metadata": {},
     "output_type": "display_data"
    },
    {
     "data": {
      "text/plain": [
       "36    4\n",
       "45    4\n",
       "50    3\n",
       "21    3\n",
       "86    3\n",
       "Name: Engagement, dtype: int64"
      ]
     },
     "metadata": {},
     "output_type": "display_data"
    }
   ],
   "source": [
    "for cn,c in tweets.iteritems():\n",
    "    display(c.value_counts().nlargest(n = 5))"
   ]
  },
  {
   "cell_type": "code",
   "execution_count": 20,
   "id": "57430fbf",
   "metadata": {},
   "outputs": [
    {
     "data": {
      "text/plain": [
       "1.11.2020     1\n",
       "31.03.2021    1\n",
       "29.03.2021    1\n",
       "28.03.2021    1\n",
       "27.03.2021    1\n",
       "26.03.2021    1\n",
       "Name: Date, dtype: int64"
      ]
     },
     "metadata": {},
     "output_type": "display_data"
    },
    {
     "data": {
      "text/plain": [
       "416    1\n",
       "571    1\n",
       "280    1\n",
       "147    1\n",
       "252    1\n",
       "158    1\n",
       "Name: Impression, dtype: int64"
      ]
     },
     "metadata": {},
     "output_type": "display_data"
    },
    {
     "data": {
      "text/plain": [
       "75     1\n",
       "117    1\n",
       "180    1\n",
       "103    1\n",
       "51     1\n",
       "102    1\n",
       "Name: Engagement, dtype: int64"
      ]
     },
     "metadata": {},
     "output_type": "display_data"
    }
   ],
   "source": [
    "for cn,c in tweets.iteritems():\n",
    "    display(c.value_counts().nsmallest(n = 6))"
   ]
  },
  {
   "cell_type": "code",
   "execution_count": 21,
   "id": "66f52bb0",
   "metadata": {},
   "outputs": [
    {
     "data": {
      "text/plain": [
       "Date          122\n",
       "Impression    111\n",
       "Engagement     76\n",
       "dtype: int64"
      ]
     },
     "execution_count": 21,
     "metadata": {},
     "output_type": "execute_result"
    }
   ],
   "source": [
    "tweets.nunique()"
   ]
  },
  {
   "cell_type": "code",
   "execution_count": 23,
   "id": "66599e57",
   "metadata": {},
   "outputs": [
    {
     "data": {
      "text/plain": [
       "1.11.2020     0.819672\n",
       "31.03.2021    0.819672\n",
       "29.03.2021    0.819672\n",
       "28.03.2021    0.819672\n",
       "27.03.2021    0.819672\n",
       "                ...   \n",
       "7.12.2020     0.819672\n",
       "6.12.2020     0.819672\n",
       "5.12.2020     0.819672\n",
       "4.12.2020     0.819672\n",
       "30.04.2021    0.819672\n",
       "Name: Date, Length: 122, dtype: float64"
      ]
     },
     "metadata": {},
     "output_type": "display_data"
    },
    {
     "data": {
      "text/plain": [
       "360    2.459016\n",
       "112    1.639344\n",
       "196    1.639344\n",
       "582    1.639344\n",
       "124    1.639344\n",
       "         ...   \n",
       "552    0.819672\n",
       "227    0.819672\n",
       "297    0.819672\n",
       "465    0.819672\n",
       "253    0.819672\n",
       "Name: Impression, Length: 111, dtype: float64"
      ]
     },
     "metadata": {},
     "output_type": "display_data"
    },
    {
     "data": {
      "text/plain": [
       "36     3.278689\n",
       "45     3.278689\n",
       "50     2.459016\n",
       "21     2.459016\n",
       "86     2.459016\n",
       "         ...   \n",
       "112    0.819672\n",
       "157    0.819672\n",
       "42     0.819672\n",
       "27     0.819672\n",
       "124    0.819672\n",
       "Name: Engagement, Length: 76, dtype: float64"
      ]
     },
     "metadata": {},
     "output_type": "display_data"
    }
   ],
   "source": [
    "for cn,c in tweets.iteritems():\n",
    "    display(c.value_counts(normalize = True) * 100)"
   ]
  },
  {
   "cell_type": "code",
   "execution_count": 31,
   "id": "1c031aab",
   "metadata": {},
   "outputs": [],
   "source": [
    "from datetime import datetime\n",
    "\n",
    "def day_of_week(date):\n",
    "    return date.strftime(\"%A\")"
   ]
  },
  {
   "cell_type": "code",
   "execution_count": 46,
   "id": "30b483e3",
   "metadata": {},
   "outputs": [],
   "source": [
    "tweets[\"Date\"] = pd.to_datetime(tweets[\"Date\"])"
   ]
  },
  {
   "cell_type": "code",
   "execution_count": 49,
   "id": "7f164214",
   "metadata": {},
   "outputs": [],
   "source": [
    "tweets['week_of_year'] = tweets['Date'].dt.isocalendar().week \n",
    "tweets['day_of_week'] = tweets['Date'].dt.dayofweek\n",
    "tweets['is_leap_year'] = tweets['Date'].dt.is_leap_year"
   ]
  },
  {
   "cell_type": "code",
   "execution_count": 62,
   "id": "6c33a3b6",
   "metadata": {},
   "outputs": [
    {
     "data": {
      "text/html": [
       "<div>\n",
       "<style scoped>\n",
       "    .dataframe tbody tr th:only-of-type {\n",
       "        vertical-align: middle;\n",
       "    }\n",
       "\n",
       "    .dataframe tbody tr th {\n",
       "        vertical-align: top;\n",
       "    }\n",
       "\n",
       "    .dataframe thead th {\n",
       "        text-align: right;\n",
       "    }\n",
       "</style>\n",
       "<table border=\"1\" class=\"dataframe\">\n",
       "  <thead>\n",
       "    <tr style=\"text-align: right;\">\n",
       "      <th></th>\n",
       "      <th>Date</th>\n",
       "      <th>Impression</th>\n",
       "      <th>Engagement</th>\n",
       "      <th>week_of_year</th>\n",
       "      <th>day_of_week</th>\n",
       "      <th>is_leap_year</th>\n",
       "    </tr>\n",
       "  </thead>\n",
       "  <tbody>\n",
       "    <tr>\n",
       "      <th>0</th>\n",
       "      <td>2020-01-11</td>\n",
       "      <td>506</td>\n",
       "      <td>106</td>\n",
       "      <td>2</td>\n",
       "      <td>5</td>\n",
       "      <td>True</td>\n",
       "    </tr>\n",
       "    <tr>\n",
       "      <th>1</th>\n",
       "      <td>2020-02-11</td>\n",
       "      <td>331</td>\n",
       "      <td>50</td>\n",
       "      <td>7</td>\n",
       "      <td>1</td>\n",
       "      <td>True</td>\n",
       "    </tr>\n",
       "    <tr>\n",
       "      <th>2</th>\n",
       "      <td>2020-03-11</td>\n",
       "      <td>377</td>\n",
       "      <td>86</td>\n",
       "      <td>11</td>\n",
       "      <td>2</td>\n",
       "      <td>True</td>\n",
       "    </tr>\n",
       "    <tr>\n",
       "      <th>3</th>\n",
       "      <td>2020-04-11</td>\n",
       "      <td>333</td>\n",
       "      <td>108</td>\n",
       "      <td>15</td>\n",
       "      <td>5</td>\n",
       "      <td>True</td>\n",
       "    </tr>\n",
       "    <tr>\n",
       "      <th>4</th>\n",
       "      <td>2020-05-11</td>\n",
       "      <td>558</td>\n",
       "      <td>31</td>\n",
       "      <td>20</td>\n",
       "      <td>0</td>\n",
       "      <td>True</td>\n",
       "    </tr>\n",
       "  </tbody>\n",
       "</table>\n",
       "</div>"
      ],
      "text/plain": [
       "        Date  Impression  Engagement  week_of_year  day_of_week  is_leap_year\n",
       "0 2020-01-11         506         106             2            5          True\n",
       "1 2020-02-11         331          50             7            1          True\n",
       "2 2020-03-11         377          86            11            2          True\n",
       "3 2020-04-11         333         108            15            5          True\n",
       "4 2020-05-11         558          31            20            0          True"
      ]
     },
     "execution_count": 62,
     "metadata": {},
     "output_type": "execute_result"
    }
   ],
   "source": [
    "tweets.head()"
   ]
  }
 ],
 "metadata": {
  "kernelspec": {
   "display_name": "Python 3 (ipykernel)",
   "language": "python",
   "name": "python3"
  },
  "language_info": {
   "codemirror_mode": {
    "name": "ipython",
    "version": 3
   },
   "file_extension": ".py",
   "mimetype": "text/x-python",
   "name": "python",
   "nbconvert_exporter": "python",
   "pygments_lexer": "ipython3",
   "version": "3.8.8"
  },
  "toc": {
   "base_numbering": 1,
   "nav_menu": {},
   "number_sections": true,
   "sideBar": true,
   "skip_h1_title": false,
   "title_cell": "Table of Contents",
   "title_sidebar": "Contents",
   "toc_cell": false,
   "toc_position": {},
   "toc_section_display": true,
   "toc_window_display": false
  },
  "varInspector": {
   "cols": {
    "lenName": 16,
    "lenType": 16,
    "lenVar": 40
   },
   "kernels_config": {
    "python": {
     "delete_cmd_postfix": "",
     "delete_cmd_prefix": "del ",
     "library": "var_list.py",
     "varRefreshCmd": "print(var_dic_list())"
    },
    "r": {
     "delete_cmd_postfix": ") ",
     "delete_cmd_prefix": "rm(",
     "library": "var_list.r",
     "varRefreshCmd": "cat(var_dic_list()) "
    }
   },
   "types_to_exclude": [
    "module",
    "function",
    "builtin_function_or_method",
    "instance",
    "_Feature"
   ],
   "window_display": false
  }
 },
 "nbformat": 4,
 "nbformat_minor": 5
}
